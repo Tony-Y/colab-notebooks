{
  "nbformat": 4,
  "nbformat_minor": 0,
  "metadata": {
    "colab": {
      "name": "PyTorch-Warmup-Approach2-chaining.ipynb",
      "provenance": [],
      "collapsed_sections": [],
      "include_colab_link": true
    },
    "kernelspec": {
      "name": "python3",
      "display_name": "Python 3"
    },
    "accelerator": "GPU",
    "widgets": {
      "application/vnd.jupyter.widget-state+json": {
        "7138b5e38afc4ce0adad6b8e05ec8f84": {
          "model_module": "@jupyter-widgets/controls",
          "model_name": "HBoxModel",
          "model_module_version": "1.5.0",
          "state": {
            "_dom_classes": [],
            "_model_module": "@jupyter-widgets/controls",
            "_model_module_version": "1.5.0",
            "_model_name": "HBoxModel",
            "_view_count": null,
            "_view_module": "@jupyter-widgets/controls",
            "_view_module_version": "1.5.0",
            "_view_name": "HBoxView",
            "box_style": "",
            "children": [
              "IPY_MODEL_97ad3b07121e43ceb2c016444753470e",
              "IPY_MODEL_ab33833513d64268bb3feaee366afac2",
              "IPY_MODEL_9d202876d40b44aeb152b69c3e083e72"
            ],
            "layout": "IPY_MODEL_4840c2dabafc45da8e82adeca1ae9959"
          }
        },
        "97ad3b07121e43ceb2c016444753470e": {
          "model_module": "@jupyter-widgets/controls",
          "model_name": "HTMLModel",
          "model_module_version": "1.5.0",
          "state": {
            "_dom_classes": [],
            "_model_module": "@jupyter-widgets/controls",
            "_model_module_version": "1.5.0",
            "_model_name": "HTMLModel",
            "_view_count": null,
            "_view_module": "@jupyter-widgets/controls",
            "_view_module_version": "1.5.0",
            "_view_name": "HTMLView",
            "description": "",
            "description_tooltip": null,
            "layout": "IPY_MODEL_7fcc030c716e400db5e8af28b7b731de",
            "placeholder": "​",
            "style": "IPY_MODEL_03ef62a0fa644f648ef6c6b53a85b58b",
            "value": ""
          }
        },
        "ab33833513d64268bb3feaee366afac2": {
          "model_module": "@jupyter-widgets/controls",
          "model_name": "FloatProgressModel",
          "model_module_version": "1.5.0",
          "state": {
            "_dom_classes": [],
            "_model_module": "@jupyter-widgets/controls",
            "_model_module_version": "1.5.0",
            "_model_name": "FloatProgressModel",
            "_view_count": null,
            "_view_module": "@jupyter-widgets/controls",
            "_view_module_version": "1.5.0",
            "_view_name": "ProgressView",
            "bar_style": "success",
            "description": "",
            "description_tooltip": null,
            "layout": "IPY_MODEL_3fc9b8c23a624c9ca5a1c4d251e9d79c",
            "max": 561753746,
            "min": 0,
            "orientation": "horizontal",
            "style": "IPY_MODEL_1a3ab041e9744e11a6fbc4503e5bbbba",
            "value": 561753746
          }
        },
        "9d202876d40b44aeb152b69c3e083e72": {
          "model_module": "@jupyter-widgets/controls",
          "model_name": "HTMLModel",
          "model_module_version": "1.5.0",
          "state": {
            "_dom_classes": [],
            "_model_module": "@jupyter-widgets/controls",
            "_model_module_version": "1.5.0",
            "_model_name": "HTMLModel",
            "_view_count": null,
            "_view_module": "@jupyter-widgets/controls",
            "_view_module_version": "1.5.0",
            "_view_name": "HTMLView",
            "description": "",
            "description_tooltip": null,
            "layout": "IPY_MODEL_7c605ae7b1b9448daf5ea5d8aa7145b0",
            "placeholder": "​",
            "style": "IPY_MODEL_45a991f619034d66a0eebfaeedbcd1ab",
            "value": " 561754112/? [00:35&lt;00:00, 16295289.91it/s]"
          }
        },
        "4840c2dabafc45da8e82adeca1ae9959": {
          "model_module": "@jupyter-widgets/base",
          "model_name": "LayoutModel",
          "model_module_version": "1.2.0",
          "state": {
            "_model_module": "@jupyter-widgets/base",
            "_model_module_version": "1.2.0",
            "_model_name": "LayoutModel",
            "_view_count": null,
            "_view_module": "@jupyter-widgets/base",
            "_view_module_version": "1.2.0",
            "_view_name": "LayoutView",
            "align_content": null,
            "align_items": null,
            "align_self": null,
            "border": null,
            "bottom": null,
            "display": null,
            "flex": null,
            "flex_flow": null,
            "grid_area": null,
            "grid_auto_columns": null,
            "grid_auto_flow": null,
            "grid_auto_rows": null,
            "grid_column": null,
            "grid_gap": null,
            "grid_row": null,
            "grid_template_areas": null,
            "grid_template_columns": null,
            "grid_template_rows": null,
            "height": null,
            "justify_content": null,
            "justify_items": null,
            "left": null,
            "margin": null,
            "max_height": null,
            "max_width": null,
            "min_height": null,
            "min_width": null,
            "object_fit": null,
            "object_position": null,
            "order": null,
            "overflow": null,
            "overflow_x": null,
            "overflow_y": null,
            "padding": null,
            "right": null,
            "top": null,
            "visibility": null,
            "width": null
          }
        },
        "7fcc030c716e400db5e8af28b7b731de": {
          "model_module": "@jupyter-widgets/base",
          "model_name": "LayoutModel",
          "model_module_version": "1.2.0",
          "state": {
            "_model_module": "@jupyter-widgets/base",
            "_model_module_version": "1.2.0",
            "_model_name": "LayoutModel",
            "_view_count": null,
            "_view_module": "@jupyter-widgets/base",
            "_view_module_version": "1.2.0",
            "_view_name": "LayoutView",
            "align_content": null,
            "align_items": null,
            "align_self": null,
            "border": null,
            "bottom": null,
            "display": null,
            "flex": null,
            "flex_flow": null,
            "grid_area": null,
            "grid_auto_columns": null,
            "grid_auto_flow": null,
            "grid_auto_rows": null,
            "grid_column": null,
            "grid_gap": null,
            "grid_row": null,
            "grid_template_areas": null,
            "grid_template_columns": null,
            "grid_template_rows": null,
            "height": null,
            "justify_content": null,
            "justify_items": null,
            "left": null,
            "margin": null,
            "max_height": null,
            "max_width": null,
            "min_height": null,
            "min_width": null,
            "object_fit": null,
            "object_position": null,
            "order": null,
            "overflow": null,
            "overflow_x": null,
            "overflow_y": null,
            "padding": null,
            "right": null,
            "top": null,
            "visibility": null,
            "width": null
          }
        },
        "03ef62a0fa644f648ef6c6b53a85b58b": {
          "model_module": "@jupyter-widgets/controls",
          "model_name": "DescriptionStyleModel",
          "model_module_version": "1.5.0",
          "state": {
            "_model_module": "@jupyter-widgets/controls",
            "_model_module_version": "1.5.0",
            "_model_name": "DescriptionStyleModel",
            "_view_count": null,
            "_view_module": "@jupyter-widgets/base",
            "_view_module_version": "1.2.0",
            "_view_name": "StyleView",
            "description_width": ""
          }
        },
        "3fc9b8c23a624c9ca5a1c4d251e9d79c": {
          "model_module": "@jupyter-widgets/base",
          "model_name": "LayoutModel",
          "model_module_version": "1.2.0",
          "state": {
            "_model_module": "@jupyter-widgets/base",
            "_model_module_version": "1.2.0",
            "_model_name": "LayoutModel",
            "_view_count": null,
            "_view_module": "@jupyter-widgets/base",
            "_view_module_version": "1.2.0",
            "_view_name": "LayoutView",
            "align_content": null,
            "align_items": null,
            "align_self": null,
            "border": null,
            "bottom": null,
            "display": null,
            "flex": null,
            "flex_flow": null,
            "grid_area": null,
            "grid_auto_columns": null,
            "grid_auto_flow": null,
            "grid_auto_rows": null,
            "grid_column": null,
            "grid_gap": null,
            "grid_row": null,
            "grid_template_areas": null,
            "grid_template_columns": null,
            "grid_template_rows": null,
            "height": null,
            "justify_content": null,
            "justify_items": null,
            "left": null,
            "margin": null,
            "max_height": null,
            "max_width": null,
            "min_height": null,
            "min_width": null,
            "object_fit": null,
            "object_position": null,
            "order": null,
            "overflow": null,
            "overflow_x": null,
            "overflow_y": null,
            "padding": null,
            "right": null,
            "top": null,
            "visibility": null,
            "width": null
          }
        },
        "1a3ab041e9744e11a6fbc4503e5bbbba": {
          "model_module": "@jupyter-widgets/controls",
          "model_name": "ProgressStyleModel",
          "model_module_version": "1.5.0",
          "state": {
            "_model_module": "@jupyter-widgets/controls",
            "_model_module_version": "1.5.0",
            "_model_name": "ProgressStyleModel",
            "_view_count": null,
            "_view_module": "@jupyter-widgets/base",
            "_view_module_version": "1.2.0",
            "_view_name": "StyleView",
            "bar_color": null,
            "description_width": ""
          }
        },
        "7c605ae7b1b9448daf5ea5d8aa7145b0": {
          "model_module": "@jupyter-widgets/base",
          "model_name": "LayoutModel",
          "model_module_version": "1.2.0",
          "state": {
            "_model_module": "@jupyter-widgets/base",
            "_model_module_version": "1.2.0",
            "_model_name": "LayoutModel",
            "_view_count": null,
            "_view_module": "@jupyter-widgets/base",
            "_view_module_version": "1.2.0",
            "_view_name": "LayoutView",
            "align_content": null,
            "align_items": null,
            "align_self": null,
            "border": null,
            "bottom": null,
            "display": null,
            "flex": null,
            "flex_flow": null,
            "grid_area": null,
            "grid_auto_columns": null,
            "grid_auto_flow": null,
            "grid_auto_rows": null,
            "grid_column": null,
            "grid_gap": null,
            "grid_row": null,
            "grid_template_areas": null,
            "grid_template_columns": null,
            "grid_template_rows": null,
            "height": null,
            "justify_content": null,
            "justify_items": null,
            "left": null,
            "margin": null,
            "max_height": null,
            "max_width": null,
            "min_height": null,
            "min_width": null,
            "object_fit": null,
            "object_position": null,
            "order": null,
            "overflow": null,
            "overflow_x": null,
            "overflow_y": null,
            "padding": null,
            "right": null,
            "top": null,
            "visibility": null,
            "width": null
          }
        },
        "45a991f619034d66a0eebfaeedbcd1ab": {
          "model_module": "@jupyter-widgets/controls",
          "model_name": "DescriptionStyleModel",
          "model_module_version": "1.5.0",
          "state": {
            "_model_module": "@jupyter-widgets/controls",
            "_model_module_version": "1.5.0",
            "_model_name": "DescriptionStyleModel",
            "_view_count": null,
            "_view_module": "@jupyter-widgets/base",
            "_view_module_version": "1.2.0",
            "_view_name": "StyleView",
            "description_width": ""
          }
        }
      }
    }
  },
  "cells": [
    {
      "cell_type": "markdown",
      "metadata": {
        "id": "view-in-github",
        "colab_type": "text"
      },
      "source": [
        "<a href=\"https://colab.research.google.com/github/Tony-Y/colab-notebooks/blob/master/PyTorch_Warmup_Approach2_chaining.ipynb\" target=\"_parent\"><img src=\"https://colab.research.google.com/assets/colab-badge.svg\" alt=\"Open In Colab\"/></a>"
      ]
    },
    {
      "cell_type": "code",
      "metadata": {
        "id": "2oZeEME2xbWk",
        "outputId": "624ae4d4-d849-43fb-ed80-a83ab55b521e",
        "colab": {
          "base_uri": "https://localhost:8080/"
        }
      },
      "source": [
        "!pip install pytorch_warmup"
      ],
      "execution_count": 1,
      "outputs": [
        {
          "output_type": "stream",
          "name": "stdout",
          "text": [
            "Collecting pytorch_warmup\n",
            "  Downloading pytorch-warmup-0.1.0.tar.gz (314 kB)\n",
            "\u001b[?25l\r\u001b[K     |█                               | 10 kB 36.6 MB/s eta 0:00:01\r\u001b[K     |██                              | 20 kB 10.6 MB/s eta 0:00:01\r\u001b[K     |███▏                            | 30 kB 8.6 MB/s eta 0:00:01\r\u001b[K     |████▏                           | 40 kB 3.7 MB/s eta 0:00:01\r\u001b[K     |█████▏                          | 51 kB 3.7 MB/s eta 0:00:01\r\u001b[K     |██████▎                         | 61 kB 4.4 MB/s eta 0:00:01\r\u001b[K     |███████▎                        | 71 kB 4.6 MB/s eta 0:00:01\r\u001b[K     |████████▍                       | 81 kB 4.9 MB/s eta 0:00:01\r\u001b[K     |█████████▍                      | 92 kB 5.5 MB/s eta 0:00:01\r\u001b[K     |██████████▍                     | 102 kB 4.3 MB/s eta 0:00:01\r\u001b[K     |███████████▌                    | 112 kB 4.3 MB/s eta 0:00:01\r\u001b[K     |████████████▌                   | 122 kB 4.3 MB/s eta 0:00:01\r\u001b[K     |█████████████▌                  | 133 kB 4.3 MB/s eta 0:00:01\r\u001b[K     |██████████████▋                 | 143 kB 4.3 MB/s eta 0:00:01\r\u001b[K     |███████████████▋                | 153 kB 4.3 MB/s eta 0:00:01\r\u001b[K     |████████████████▊               | 163 kB 4.3 MB/s eta 0:00:01\r\u001b[K     |█████████████████▊              | 174 kB 4.3 MB/s eta 0:00:01\r\u001b[K     |██████████████████▊             | 184 kB 4.3 MB/s eta 0:00:01\r\u001b[K     |███████████████████▉            | 194 kB 4.3 MB/s eta 0:00:01\r\u001b[K     |████████████████████▉           | 204 kB 4.3 MB/s eta 0:00:01\r\u001b[K     |██████████████████████          | 215 kB 4.3 MB/s eta 0:00:01\r\u001b[K     |███████████████████████         | 225 kB 4.3 MB/s eta 0:00:01\r\u001b[K     |████████████████████████        | 235 kB 4.3 MB/s eta 0:00:01\r\u001b[K     |█████████████████████████       | 245 kB 4.3 MB/s eta 0:00:01\r\u001b[K     |██████████████████████████      | 256 kB 4.3 MB/s eta 0:00:01\r\u001b[K     |███████████████████████████     | 266 kB 4.3 MB/s eta 0:00:01\r\u001b[K     |████████████████████████████▏   | 276 kB 4.3 MB/s eta 0:00:01\r\u001b[K     |█████████████████████████████▏  | 286 kB 4.3 MB/s eta 0:00:01\r\u001b[K     |██████████████████████████████▎ | 296 kB 4.3 MB/s eta 0:00:01\r\u001b[K     |███████████████████████████████▎| 307 kB 4.3 MB/s eta 0:00:01\r\u001b[K     |████████████████████████████████| 314 kB 4.3 MB/s \n",
            "\u001b[?25hRequirement already satisfied: torch>=1.1 in /usr/local/lib/python3.7/dist-packages (from pytorch_warmup) (1.10.0+cu111)\n",
            "Requirement already satisfied: typing-extensions in /usr/local/lib/python3.7/dist-packages (from torch>=1.1->pytorch_warmup) (3.10.0.2)\n",
            "Building wheels for collected packages: pytorch-warmup\n",
            "  Building wheel for pytorch-warmup (setup.py) ... \u001b[?25l\u001b[?25hdone\n",
            "  Created wheel for pytorch-warmup: filename=pytorch_warmup-0.1.0-py3-none-any.whl size=5802 sha256=0b76beeb4672e627db4a9837a83348e9ca3bb720c97a94c3090c99d49ddc04ec\n",
            "  Stored in directory: /root/.cache/pip/wheels/c7/5d/24/9475e442daa1e9332c122c79fb5131b9e4e91946009365902e\n",
            "Successfully built pytorch-warmup\n",
            "Installing collected packages: pytorch-warmup\n",
            "Successfully installed pytorch-warmup-0.1.0\n"
          ]
        }
      ]
    },
    {
      "cell_type": "code",
      "metadata": {
        "id": "UnFPsZdvxvD0"
      },
      "source": [
        "import torch\n",
        "import torch.nn as nn\n",
        "import torch.nn.functional as F\n",
        "import torch.optim as optim\n",
        "from torchvision import datasets, transforms\n",
        "\n",
        "import pytorch_warmup as warmup\n",
        "import os\n",
        "from progressbar import progressbar"
      ],
      "execution_count": 2,
      "outputs": []
    },
    {
      "cell_type": "code",
      "metadata": {
        "id": "QKNgNEQGyAN0"
      },
      "source": [
        "class Net(nn.Module):\n",
        "    def __init__(self):\n",
        "        super(Net, self).__init__()\n",
        "        self.conv1 = nn.Conv2d(1, 20, 5, 1)\n",
        "        self.conv2 = nn.Conv2d(20, 50, 5, 1)\n",
        "        self.fc1 = nn.Linear(4*4*50, 500)\n",
        "        self.fc2 = nn.Linear(500, 47)\n",
        "\n",
        "    def forward(self, x):\n",
        "        x = F.relu(self.conv1(x))\n",
        "        x = F.max_pool2d(x, 2, 2)\n",
        "        x = F.relu(self.conv2(x))\n",
        "        x = F.max_pool2d(x, 2, 2)\n",
        "        x = x.view(-1, 4*4*50)\n",
        "        x = F.relu(self.fc1(x))\n",
        "        x = self.fc2(x)\n",
        "        return F.log_softmax(x, dim=1)"
      ],
      "execution_count": 3,
      "outputs": []
    },
    {
      "cell_type": "code",
      "metadata": {
        "id": "cgrcrd9myGSp"
      },
      "source": [
        "def train(model, device, train_loader, optimizer, lr_scheduler,\n",
        "          warmup_scheduler, epoch, history):\n",
        "    model.train()\n",
        "    for batch_idx, (data, target) in enumerate(progressbar(train_loader)):\n",
        "        lr = optimizer.param_groups[0]['lr']\n",
        "        data, target = data.to(device), target.to(device)\n",
        "        optimizer.zero_grad()\n",
        "        output = model(data)\n",
        "        loss = F.nll_loss(output, target)\n",
        "        loss.backward()\n",
        "        optimizer.step()\n",
        "        if (batch_idx+1) % log_interval == 0:\n",
        "            loss = loss.item()\n",
        "            step = warmup_scheduler.last_step\n",
        "            history.write(f'{epoch},{step},{loss},{lr}\\n')\n",
        "        if batch_idx < len(train_loader)-1:\n",
        "            with warmup_scheduler.dampening():\n",
        "                pass\n",
        "    with warmup_scheduler.dampening():\n",
        "        lr_scheduler.step()"
      ],
      "execution_count": 4,
      "outputs": []
    },
    {
      "cell_type": "code",
      "metadata": {
        "id": "-tL5QF6myKnH"
      },
      "source": [
        "def test(model, device, test_loader, epoch, evaluation):\n",
        "    model.eval()\n",
        "    test_loss = 0\n",
        "    correct = 0\n",
        "    with torch.no_grad():\n",
        "        for data, target in progressbar(test_loader):\n",
        "            data, target = data.to(device), target.to(device)\n",
        "            output = model(data)\n",
        "            test_loss += F.nll_loss(output, target, reduction='sum').item()  # sum up batch loss\n",
        "            pred = output.argmax(dim=1, keepdim=True)  # get the index of the max log-probability\n",
        "            correct += pred.eq(target.view_as(pred)).sum().item()\n",
        "\n",
        "    test_loss /= len(test_loader.dataset)\n",
        "    test_acc = 100. * correct / len(test_loader.dataset)\n",
        "    print('\\nTest set: Average loss: {:.4f}, Accuracy: {}/{} ({:.2f}%)\\n'.format(\n",
        "        test_loss, correct, len(test_loader.dataset), test_acc))\n",
        "    evaluation.write(f'{epoch},{test_loss},{test_acc}\\n')\n",
        "    evaluation.flush()"
      ],
      "execution_count": 5,
      "outputs": []
    },
    {
      "cell_type": "code",
      "metadata": {
        "id": "lOql7D5ryRVr",
        "colab": {
          "base_uri": "https://localhost:8080/",
          "height": 83,
          "referenced_widgets": [
            "7138b5e38afc4ce0adad6b8e05ec8f84",
            "97ad3b07121e43ceb2c016444753470e",
            "ab33833513d64268bb3feaee366afac2",
            "9d202876d40b44aeb152b69c3e083e72",
            "4840c2dabafc45da8e82adeca1ae9959",
            "7fcc030c716e400db5e8af28b7b731de",
            "03ef62a0fa644f648ef6c6b53a85b58b",
            "3fc9b8c23a624c9ca5a1c4d251e9d79c",
            "1a3ab041e9744e11a6fbc4503e5bbbba",
            "7c605ae7b1b9448daf5ea5d8aa7145b0",
            "45a991f619034d66a0eebfaeedbcd1ab"
          ]
        },
        "outputId": "3b4bdae4-c910-4f57-d42b-59ce88ca6687"
      },
      "source": [
        "torch.manual_seed(12345)\n",
        "device = torch.device(\"cuda\")\n",
        "\n",
        "kwargs = {'num_workers': 1, 'pin_memory': True}\n",
        "train_loader = torch.utils.data.DataLoader(\n",
        "        datasets.EMNIST('.data', 'balanced', train=True, download=True,\n",
        "                        transform=transforms.Compose([\n",
        "                            transforms.ToTensor(),\n",
        "                            transforms.Normalize((0.1751,), (0.3332,))\n",
        "                        ])),\n",
        "        batch_size=64, shuffle=True, drop_last=True, **kwargs)\n",
        "test_loader = torch.utils.data.DataLoader(\n",
        "        datasets.EMNIST('.data', 'balanced', train=False,\n",
        "                        transform=transforms.Compose([\n",
        "                            transforms.ToTensor(),\n",
        "                            transforms.Normalize((0.1751,), (0.3332,))\n",
        "                        ])),\n",
        "        batch_size=1000, shuffle=False, **kwargs)"
      ],
      "execution_count": 6,
      "outputs": [
        {
          "output_type": "stream",
          "name": "stdout",
          "text": [
            "Downloading https://www.itl.nist.gov/iaui/vip/cs_links/EMNIST/gzip.zip to .data/EMNIST/raw/gzip.zip\n"
          ]
        },
        {
          "output_type": "display_data",
          "data": {
            "text/plain": [
              "  0%|          | 0/561753746 [00:00<?, ?it/s]"
            ],
            "application/vnd.jupyter.widget-view+json": {
              "version_major": 2,
              "version_minor": 0,
              "model_id": "7138b5e38afc4ce0adad6b8e05ec8f84"
            }
          },
          "metadata": {}
        },
        {
          "output_type": "stream",
          "name": "stdout",
          "text": [
            "Extracting .data/EMNIST/raw/gzip.zip to .data/EMNIST/raw\n"
          ]
        }
      ]
    },
    {
      "cell_type": "code",
      "metadata": {
        "id": "jhKBh5nYzoWH"
      },
      "source": [
        "warmup_type = \"radam\"  # choices=['linear', 'exponential', 'radam', 'none']\n",
        "beta2 = 0.999\n",
        "wd = 0.01\n",
        "lr = 0.01\n",
        "epochs = 10\n",
        "milestones = [3, 7]\n",
        "gamma = 0.1\n",
        "log_interval = 10"
      ],
      "execution_count": 7,
      "outputs": []
    },
    {
      "cell_type": "code",
      "metadata": {
        "id": "YeKnCCxv1E1x",
        "colab": {
          "base_uri": "https://localhost:8080/"
        },
        "outputId": "ce7e98ff-c099-4320-ac3f-eca065e26777"
      },
      "source": [
        "output_dir = warmup_type\n",
        "os.makedirs(output_dir, exist_ok=True)\n",
        "\n",
        "history = open(os.path.join(output_dir, 'history.csv'), 'w')\n",
        "history.write('epoch,step,loss,lr\\n')\n",
        "\n",
        "evaluation = open(os.path.join(output_dir, 'evaluation.csv'), 'w')\n",
        "evaluation.write('epoch,loss,accuracy\\n')\n",
        "\n",
        "model = Net().to(device)\n",
        "\n",
        "optimizer = optim.AdamW(model.parameters(), lr=lr,\n",
        "                            betas=(0.9, beta2),\n",
        "                            weight_decay=wd)\n",
        "lr_scheduler = optim.lr_scheduler.MultiStepLR(\n",
        "        optimizer, milestones, gamma)\n",
        "if warmup_type == 'linear':\n",
        "        warmup_scheduler = warmup.UntunedLinearWarmup(optimizer)\n",
        "elif warmup_type == 'exponential':\n",
        "        warmup_scheduler = warmup.UntunedExponentialWarmup(optimizer)\n",
        "elif warmup_type == 'radam':\n",
        "        warmup_scheduler = warmup.RAdamWarmup(optimizer)\n",
        "elif warmup_type == 'none':\n",
        "        warmup_scheduler = warmup.LinearWarmup(optimizer, 1)\n",
        "\n",
        "for epoch in range(1, epochs + 1):\n",
        "        print(f\"Epoch: {epoch} of {epochs}\")\n",
        "        train(model, device, train_loader, optimizer, lr_scheduler,\n",
        "              warmup_scheduler, epoch, history)\n",
        "        test(model, device, test_loader, epoch, evaluation)\n",
        "\n",
        "history.close()\n",
        "evaluation.close()"
      ],
      "execution_count": 8,
      "outputs": [
        {
          "output_type": "stream",
          "name": "stdout",
          "text": [
            "Epoch: 1 of 10\n"
          ]
        },
        {
          "output_type": "stream",
          "name": "stderr",
          "text": [
            "100% (1762 of 1762) |####################| Elapsed Time: 0:00:21 Time:  0:00:21\n",
            "100% (19 of 19) |########################| Elapsed Time: 0:00:02 Time:  0:00:02\n"
          ]
        },
        {
          "output_type": "stream",
          "name": "stdout",
          "text": [
            "\n",
            "Test set: Average loss: 0.5031, Accuracy: 15672/18800 (83.36%)\n",
            "\n",
            "Epoch: 2 of 10\n"
          ]
        },
        {
          "output_type": "stream",
          "name": "stderr",
          "text": [
            "100% (1762 of 1762) |####################| Elapsed Time: 0:00:22 Time:  0:00:22\n",
            "100% (19 of 19) |########################| Elapsed Time: 0:00:02 Time:  0:00:02\n"
          ]
        },
        {
          "output_type": "stream",
          "name": "stdout",
          "text": [
            "\n",
            "Test set: Average loss: 0.5572, Accuracy: 15320/18800 (81.49%)\n",
            "\n",
            "Epoch: 3 of 10\n"
          ]
        },
        {
          "output_type": "stream",
          "name": "stderr",
          "text": [
            "100% (1762 of 1762) |####################| Elapsed Time: 0:00:21 Time:  0:00:21\n",
            "100% (19 of 19) |########################| Elapsed Time: 0:00:02 Time:  0:00:02\n"
          ]
        },
        {
          "output_type": "stream",
          "name": "stdout",
          "text": [
            "\n",
            "Test set: Average loss: 0.5608, Accuracy: 15484/18800 (82.36%)\n",
            "\n",
            "Epoch: 4 of 10\n"
          ]
        },
        {
          "output_type": "stream",
          "name": "stderr",
          "text": [
            "100% (1762 of 1762) |####################| Elapsed Time: 0:00:21 Time:  0:00:21\n",
            "100% (19 of 19) |########################| Elapsed Time: 0:00:02 Time:  0:00:02\n"
          ]
        },
        {
          "output_type": "stream",
          "name": "stdout",
          "text": [
            "\n",
            "Test set: Average loss: 0.3858, Accuracy: 16342/18800 (86.93%)\n",
            "\n",
            "Epoch: 5 of 10\n"
          ]
        },
        {
          "output_type": "stream",
          "name": "stderr",
          "text": [
            "100% (1762 of 1762) |####################| Elapsed Time: 0:00:21 Time:  0:00:21\n",
            "100% (19 of 19) |########################| Elapsed Time: 0:00:02 Time:  0:00:02\n"
          ]
        },
        {
          "output_type": "stream",
          "name": "stdout",
          "text": [
            "\n",
            "Test set: Average loss: 0.3793, Accuracy: 16441/18800 (87.45%)\n",
            "\n",
            "Epoch: 6 of 10\n"
          ]
        },
        {
          "output_type": "stream",
          "name": "stderr",
          "text": [
            "100% (1762 of 1762) |####################| Elapsed Time: 0:00:21 Time:  0:00:21\n",
            "100% (19 of 19) |########################| Elapsed Time: 0:00:02 Time:  0:00:02\n"
          ]
        },
        {
          "output_type": "stream",
          "name": "stdout",
          "text": [
            "\n",
            "Test set: Average loss: 0.3922, Accuracy: 16482/18800 (87.67%)\n",
            "\n",
            "Epoch: 7 of 10\n"
          ]
        },
        {
          "output_type": "stream",
          "name": "stderr",
          "text": [
            "100% (1762 of 1762) |####################| Elapsed Time: 0:00:21 Time:  0:00:21\n",
            "100% (19 of 19) |########################| Elapsed Time: 0:00:02 Time:  0:00:02\n"
          ]
        },
        {
          "output_type": "stream",
          "name": "stdout",
          "text": [
            "\n",
            "Test set: Average loss: 0.4077, Accuracy: 16450/18800 (87.50%)\n",
            "\n",
            "Epoch: 8 of 10\n"
          ]
        },
        {
          "output_type": "stream",
          "name": "stderr",
          "text": [
            "100% (1762 of 1762) |####################| Elapsed Time: 0:00:21 Time:  0:00:21\n",
            "100% (19 of 19) |########################| Elapsed Time: 0:00:02 Time:  0:00:02\n"
          ]
        },
        {
          "output_type": "stream",
          "name": "stdout",
          "text": [
            "\n",
            "Test set: Average loss: 0.4143, Accuracy: 16509/18800 (87.81%)\n",
            "\n",
            "Epoch: 9 of 10\n"
          ]
        },
        {
          "output_type": "stream",
          "name": "stderr",
          "text": [
            "100% (1762 of 1762) |####################| Elapsed Time: 0:00:21 Time:  0:00:21\n",
            "100% (19 of 19) |########################| Elapsed Time: 0:00:02 Time:  0:00:02\n"
          ]
        },
        {
          "output_type": "stream",
          "name": "stdout",
          "text": [
            "\n",
            "Test set: Average loss: 0.4218, Accuracy: 16507/18800 (87.80%)\n",
            "\n",
            "Epoch: 10 of 10\n"
          ]
        },
        {
          "output_type": "stream",
          "name": "stderr",
          "text": [
            "100% (1762 of 1762) |####################| Elapsed Time: 0:00:21 Time:  0:00:21\n",
            "100% (19 of 19) |########################| Elapsed Time: 0:00:02 Time:  0:00:02\n"
          ]
        },
        {
          "output_type": "stream",
          "name": "stdout",
          "text": [
            "\n",
            "Test set: Average loss: 0.4298, Accuracy: 16467/18800 (87.59%)\n",
            "\n"
          ]
        }
      ]
    },
    {
      "cell_type": "code",
      "metadata": {
        "id": "1qplBwWT3bjA"
      },
      "source": [
        "import pandas as pd\n",
        "\n",
        "df_hist = pd.read_csv(os.path.join(warmup_type, \"history.csv\"))\n",
        "df_eval = pd.read_csv(os.path.join(warmup_type, \"evaluation.csv\"))"
      ],
      "execution_count": 9,
      "outputs": []
    },
    {
      "cell_type": "code",
      "metadata": {
        "id": "gOBvzvov32YZ",
        "colab": {
          "base_uri": "https://localhost:8080/",
          "height": 296
        },
        "outputId": "998312ca-b456-481f-ed27-7fb25ef77a04"
      },
      "source": [
        "df_hist.plot(x=\"step\", y=\"lr\")"
      ],
      "execution_count": 10,
      "outputs": [
        {
          "output_type": "execute_result",
          "data": {
            "text/plain": [
              "<matplotlib.axes._subplots.AxesSubplot at 0x7f73682211d0>"
            ]
          },
          "metadata": {},
          "execution_count": 10
        },
        {
          "output_type": "display_data",
          "data": {
            "text/plain": [
              "<Figure size 432x288 with 1 Axes>"
            ],
            "image/png": "[encoded data removed]"
          },
          "metadata": {
            "needs_background": "light"
          }
        }
      ]
    },
    {
      "cell_type": "code",
      "metadata": {
        "id": "H1IC-BIU4BXO",
        "colab": {
          "base_uri": "https://localhost:8080/",
          "height": 300
        },
        "outputId": "43a4f8c1-bf70-4c93-b3ba-4a5f00d035c8"
      },
      "source": [
        "df_hist.plot(x=\"step\", y=\"loss\", ylim=(0,1))"
      ],
      "execution_count": 11,
      "outputs": [
        {
          "output_type": "execute_result",
          "data": {
            "text/plain": [
              "<matplotlib.axes._subplots.AxesSubplot at 0x7f7368352e10>"
            ]
          },
          "metadata": {},
          "execution_count": 11
        },
        {
          "output_type": "display_data",
          "data": {
            "text/plain": [
              "<Figure size 432x288 with 1 Axes>"
            ],
            "image/png": "[encoded data removed]"
          },
          "metadata": {
            "needs_background": "light"
          }
        }
      ]
    },
    {
      "cell_type": "code",
      "metadata": {
        "id": "etb3dM5d4PpR",
        "colab": {
          "base_uri": "https://localhost:8080/",
          "height": 296
        },
        "outputId": "d74c5931-ac82-4498-cfc4-5b39ba92dbf1"
      },
      "source": [
        "df_eval.plot(x=\"epoch\", y=\"accuracy\", marker=\"o\")"
      ],
      "execution_count": 12,
      "outputs": [
        {
          "output_type": "execute_result",
          "data": {
            "text/plain": [
              "<matplotlib.axes._subplots.AxesSubplot at 0x7f7368275c10>"
            ]
          },
          "metadata": {},
          "execution_count": 12
        },
        {
          "output_type": "display_data",
          "data": {
            "text/plain": [
              "<Figure size 432x288 with 1 Axes>"
            ],
            "image/png": "[encoded data removed]"
          },
          "metadata": {
            "needs_background": "light"
          }
        }
      ]
    }
  ]
}