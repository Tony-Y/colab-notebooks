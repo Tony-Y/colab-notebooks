{
  "nbformat": 4,
  "nbformat_minor": 0,
  "metadata": {
    "colab": {
      "name": "PyTorch-Warmup-Approach1.ipynb",
      "provenance": [],
      "collapsed_sections": [],
      "include_colab_link": true
    },
    "kernelspec": {
      "name": "python3",
      "display_name": "Python 3"
    },
    "accelerator": "GPU"
  },
  "cells": [
    {
      "cell_type": "markdown",
      "metadata": {
        "id": "view-in-github",
        "colab_type": "text"
      },
      "source": [
        "<a href=\"https://colab.research.google.com/github/Tony-Y/colab-notebooks/blob/master/PyTorch_Warmup_Approach1.ipynb\" target=\"_parent\"><img src=\"https://colab.research.google.com/assets/colab-badge.svg\" alt=\"Open In Colab\"/></a>"
      ]
    },
    {
      "cell_type": "code",
      "metadata": {
        "id": "2oZeEME2xbWk",
        "colab_type": "code",
        "outputId": "c1fee1b3-9909-498f-ecce-39ca6505b47f",
        "colab": {
          "base_uri": "https://localhost:8080/",
          "height": 68
        }
      },
      "source": [
        "!pip install pytorch_warmup"
      ],
      "execution_count": 1,
      "outputs": [
        {
          "output_type": "stream",
          "text": [
            "Requirement already satisfied: pytorch_warmup in /usr/local/lib/python3.6/dist-packages (0.0.3)\n",
            "Requirement already satisfied: torch>=1.1 in /usr/local/lib/python3.6/dist-packages (from pytorch_warmup) (1.3.0+cu100)\n",
            "Requirement already satisfied: numpy in /usr/local/lib/python3.6/dist-packages (from torch>=1.1->pytorch_warmup) (1.17.3)\n"
          ],
          "name": "stdout"
        }
      ]
    },
    {
      "cell_type": "code",
      "metadata": {
        "id": "UnFPsZdvxvD0",
        "colab_type": "code",
        "colab": {}
      },
      "source": [
        "import torch\n",
        "import torch.nn as nn\n",
        "import torch.nn.functional as F\n",
        "import torch.optim as optim\n",
        "from torchvision import datasets, transforms\n",
        "\n",
        "import pytorch_warmup as warmup\n",
        "import os\n",
        "from progressbar import progressbar"
      ],
      "execution_count": 0,
      "outputs": []
    },
    {
      "cell_type": "code",
      "metadata": {
        "id": "QKNgNEQGyAN0",
        "colab_type": "code",
        "colab": {}
      },
      "source": [
        "class Net(nn.Module):\n",
        "    def __init__(self):\n",
        "        super(Net, self).__init__()\n",
        "        self.conv1 = nn.Conv2d(1, 20, 5, 1)\n",
        "        self.conv2 = nn.Conv2d(20, 50, 5, 1)\n",
        "        self.fc1 = nn.Linear(4*4*50, 500)\n",
        "        self.fc2 = nn.Linear(500, 47)\n",
        "\n",
        "    def forward(self, x):\n",
        "        x = F.relu(self.conv1(x))\n",
        "        x = F.max_pool2d(x, 2, 2)\n",
        "        x = F.relu(self.conv2(x))\n",
        "        x = F.max_pool2d(x, 2, 2)\n",
        "        x = x.view(-1, 4*4*50)\n",
        "        x = F.relu(self.fc1(x))\n",
        "        x = self.fc2(x)\n",
        "        return F.log_softmax(x, dim=1)"
      ],
      "execution_count": 0,
      "outputs": []
    },
    {
      "cell_type": "code",
      "metadata": {
        "id": "cgrcrd9myGSp",
        "colab_type": "code",
        "colab": {}
      },
      "source": [
        "def train(model, device, train_loader, optimizer, lr_scheduler,\n",
        "          warmup_scheduler, epoch, history):\n",
        "    model.train()\n",
        "    for batch_idx, (data, target) in enumerate(progressbar(train_loader)):\n",
        "        lr = optimizer.param_groups[0]['lr']\n",
        "        data, target = data.to(device), target.to(device)\n",
        "        optimizer.zero_grad()\n",
        "        output = model(data)\n",
        "        loss = F.nll_loss(output, target)\n",
        "        loss.backward()\n",
        "        optimizer.step()\n",
        "        lr_scheduler.step()\n",
        "        warmup_scheduler.dampen()\n",
        "        if (batch_idx+1) % log_interval == 0:\n",
        "            loss = loss.item()\n",
        "            step = warmup_scheduler.last_step\n",
        "            history.write(f'{epoch},{step},{loss},{lr}\\n')"
      ],
      "execution_count": 0,
      "outputs": []
    },
    {
      "cell_type": "code",
      "metadata": {
        "id": "-tL5QF6myKnH",
        "colab_type": "code",
        "colab": {}
      },
      "source": [
        "def test(model, device, test_loader, epoch, evaluation):\n",
        "    model.eval()\n",
        "    test_loss = 0\n",
        "    correct = 0\n",
        "    with torch.no_grad():\n",
        "        for data, target in progressbar(test_loader):\n",
        "            data, target = data.to(device), target.to(device)\n",
        "            output = model(data)\n",
        "            test_loss += F.nll_loss(output, target, reduction='sum').item()  # sum up batch loss\n",
        "            pred = output.argmax(dim=1, keepdim=True)  # get the index of the max log-probability\n",
        "            correct += pred.eq(target.view_as(pred)).sum().item()\n",
        "\n",
        "    test_loss /= len(test_loader.dataset)\n",
        "    test_acc = 100. * correct / len(test_loader.dataset)\n",
        "    print('\\nTest set: Average loss: {:.4f}, Accuracy: {}/{} ({:.2f}%)\\n'.format(\n",
        "        test_loss, correct, len(test_loader.dataset), test_acc))\n",
        "    evaluation.write(f'{epoch},{test_loss},{test_acc}\\n')\n",
        "    evaluation.flush()"
      ],
      "execution_count": 0,
      "outputs": []
    },
    {
      "cell_type": "code",
      "metadata": {
        "id": "IBgLy-Zzy3qk",
        "colab_type": "code",
        "outputId": "7ad70c43-5160-41fc-e50d-58fd52dd490b",
        "colab": {
          "base_uri": "https://localhost:8080/",
          "height": 68
        }
      },
      "source": [
        "from torchvision.datasets.utils import download_url, makedir_exist_ok\n",
        "\n",
        "raw_folder = '.data/EMNIST/raw'\n",
        "\n",
        "url = 'http://www.itl.nist.gov/iaui/vip/cs_links/EMNIST/gzip.zip'\n",
        "md5 = \"58c8d27c78d21e728a6bc7b3cc06412e\"\n",
        "\n",
        "makedir_exist_ok(raw_folder)\n",
        "\n",
        "# download files\n",
        "print('Downloading zip archive')\n",
        "download_url(url, root=raw_folder, filename=\"emnist.zip\", md5=md5)"
      ],
      "execution_count": 6,
      "outputs": [
        {
          "output_type": "stream",
          "text": [
            "\r0it [00:00, ?it/s]"
          ],
          "name": "stderr"
        },
        {
          "output_type": "stream",
          "text": [
            "Downloading zip archive\n",
            "Downloading http://www.itl.nist.gov/iaui/vip/cs_links/EMNIST/gzip.zip to .data/EMNIST/raw/emnist.zip\n"
          ],
          "name": "stdout"
        },
        {
          "output_type": "stream",
          "text": [
            "100%|█████████▉| 561455104/561753746 [05:57<00:00, 1904310.09it/s]"
          ],
          "name": "stderr"
        }
      ]
    },
    {
      "cell_type": "code",
      "metadata": {
        "id": "lOql7D5ryRVr",
        "colab_type": "code",
        "colab": {}
      },
      "source": [
        "torch.manual_seed(12345)\n",
        "device = torch.device(\"cuda\")\n",
        "\n",
        "kwargs = {'num_workers': 1, 'pin_memory': True}\n",
        "train_loader = torch.utils.data.DataLoader(\n",
        "        datasets.EMNIST('.data', 'balanced', train=True, download=True,\n",
        "                        transform=transforms.Compose([\n",
        "                            transforms.ToTensor(),\n",
        "                            transforms.Normalize((0.1751,), (0.3332,))\n",
        "                        ])),\n",
        "        batch_size=64, shuffle=True, drop_last=True, **kwargs)\n",
        "test_loader = torch.utils.data.DataLoader(\n",
        "        datasets.EMNIST('.data', 'balanced', train=False,\n",
        "                        transform=transforms.Compose([\n",
        "                            transforms.ToTensor(),\n",
        "                            transforms.Normalize((0.1751,), (0.3332,))\n",
        "                        ])),\n",
        "        batch_size=1000, shuffle=False, **kwargs)"
      ],
      "execution_count": 0,
      "outputs": []
    },
    {
      "cell_type": "code",
      "metadata": {
        "id": "jhKBh5nYzoWH",
        "colab_type": "code",
        "colab": {}
      },
      "source": [
        "warmup_type = \"radam\"  # choices=['linear', 'exponential', 'radam', 'none']\n",
        "beta2 = 0.999\n",
        "wd = 0.01\n",
        "lr = 0.01\n",
        "lr_min = 3e-5\n",
        "epochs = 10\n",
        "log_interval = 10\n"
      ],
      "execution_count": 0,
      "outputs": []
    },
    {
      "cell_type": "code",
      "metadata": {
        "id": "YeKnCCxv1E1x",
        "colab_type": "code",
        "outputId": "4a94d9aa-5f1b-487a-8467-2f75465aa7df",
        "colab": {
          "base_uri": "https://localhost:8080/",
          "height": 1000
        }
      },
      "source": [
        "output_dir = warmup_type\n",
        "os.makedirs(output_dir, exist_ok=True)\n",
        "\n",
        "history = open(os.path.join(output_dir, 'history.csv'), 'w')\n",
        "history.write('epoch,step,loss,lr\\n')\n",
        "\n",
        "evaluation = open(os.path.join(output_dir, 'evaluation.csv'), 'w')\n",
        "evaluation.write('epoch,loss,accuracy\\n')\n",
        "\n",
        "model = Net().to(device)\n",
        "\n",
        "optimizer = optim.AdamW(model.parameters(), lr=lr,\n",
        "                            betas=(0.9, beta2),\n",
        "                            weight_decay=wd)\n",
        "num_steps = len(train_loader) * epochs\n",
        "lr_scheduler = optim.lr_scheduler.CosineAnnealingLR(\n",
        "        optimizer, T_max=num_steps, eta_min=lr_min)\n",
        "if warmup_type == 'linear':\n",
        "        warmup_scheduler = warmup.UntunedLinearWarmup(optimizer)\n",
        "elif warmup_type == 'exponential':\n",
        "        warmup_scheduler = warmup.UntunedExponentialWarmup(optimizer)\n",
        "elif warmup_type == 'radam':\n",
        "        warmup_scheduler = warmup.RAdamWarmup(optimizer)\n",
        "elif warmup_type == 'none':\n",
        "        warmup_scheduler = warmup.LinearWarmup(optimizer, 1)\n",
        "\n",
        "for epoch in range(1, epochs + 1):\n",
        "        print(f\"Epoch: {epoch} of {epochs}\")\n",
        "        train(model, device, train_loader, optimizer, lr_scheduler,\n",
        "              warmup_scheduler, epoch, history)\n",
        "        test(model, device, test_loader, epoch, evaluation)\n",
        "\n",
        "history.close()\n",
        "evaluation.close()"
      ],
      "execution_count": 9,
      "outputs": [
        {
          "output_type": "stream",
          "text": [
            "Epoch: 1 of 10\n"
          ],
          "name": "stdout"
        },
        {
          "output_type": "stream",
          "text": [
            "100% (1762 of 1762) |####################| Elapsed Time: 0:00:29 Time:  0:00:29\n",
            "100% (19 of 19) |########################| Elapsed Time: 0:00:03 Time:  0:00:03\n"
          ],
          "name": "stderr"
        },
        {
          "output_type": "stream",
          "text": [
            "\n",
            "Test set: Average loss: 0.5638, Accuracy: 15259/18800 (81.16%)\n",
            "\n",
            "Epoch: 2 of 10\n"
          ],
          "name": "stdout"
        },
        {
          "output_type": "stream",
          "text": [
            "100% (1762 of 1762) |####################| Elapsed Time: 0:00:29 Time:  0:00:29\n",
            "100% (19 of 19) |########################| Elapsed Time: 0:00:03 Time:  0:00:03\n"
          ],
          "name": "stderr"
        },
        {
          "output_type": "stream",
          "text": [
            "\n",
            "Test set: Average loss: 0.5217, Accuracy: 15522/18800 (82.56%)\n",
            "\n",
            "Epoch: 3 of 10\n"
          ],
          "name": "stdout"
        },
        {
          "output_type": "stream",
          "text": [
            "100% (1762 of 1762) |####################| Elapsed Time: 0:00:29 Time:  0:00:29\n",
            "100% (19 of 19) |########################| Elapsed Time: 0:00:03 Time:  0:00:03\n"
          ],
          "name": "stderr"
        },
        {
          "output_type": "stream",
          "text": [
            "\n",
            "Test set: Average loss: 0.4857, Accuracy: 15774/18800 (83.90%)\n",
            "\n",
            "Epoch: 4 of 10\n"
          ],
          "name": "stdout"
        },
        {
          "output_type": "stream",
          "text": [
            "100% (1762 of 1762) |####################| Elapsed Time: 0:00:29 Time:  0:00:29\n",
            "100% (19 of 19) |########################| Elapsed Time: 0:00:03 Time:  0:00:03\n"
          ],
          "name": "stderr"
        },
        {
          "output_type": "stream",
          "text": [
            "\n",
            "Test set: Average loss: 0.4586, Accuracy: 15976/18800 (84.98%)\n",
            "\n",
            "Epoch: 5 of 10\n"
          ],
          "name": "stdout"
        },
        {
          "output_type": "stream",
          "text": [
            "100% (1762 of 1762) |####################| Elapsed Time: 0:00:29 Time:  0:00:29\n",
            "100% (19 of 19) |########################| Elapsed Time: 0:00:03 Time:  0:00:03\n"
          ],
          "name": "stderr"
        },
        {
          "output_type": "stream",
          "text": [
            "\n",
            "Test set: Average loss: 0.4444, Accuracy: 16071/18800 (85.48%)\n",
            "\n",
            "Epoch: 6 of 10\n"
          ],
          "name": "stdout"
        },
        {
          "output_type": "stream",
          "text": [
            "100% (1762 of 1762) |####################| Elapsed Time: 0:00:30 Time:  0:00:30\n",
            "100% (19 of 19) |########################| Elapsed Time: 0:00:03 Time:  0:00:03\n"
          ],
          "name": "stderr"
        },
        {
          "output_type": "stream",
          "text": [
            "\n",
            "Test set: Average loss: 0.4144, Accuracy: 16264/18800 (86.51%)\n",
            "\n",
            "Epoch: 7 of 10\n"
          ],
          "name": "stdout"
        },
        {
          "output_type": "stream",
          "text": [
            "100% (1762 of 1762) |####################| Elapsed Time: 0:00:30 Time:  0:00:30\n",
            "100% (19 of 19) |########################| Elapsed Time: 0:00:03 Time:  0:00:03\n"
          ],
          "name": "stderr"
        },
        {
          "output_type": "stream",
          "text": [
            "\n",
            "Test set: Average loss: 0.3951, Accuracy: 16421/18800 (87.35%)\n",
            "\n",
            "Epoch: 8 of 10\n"
          ],
          "name": "stdout"
        },
        {
          "output_type": "stream",
          "text": [
            "100% (1762 of 1762) |####################| Elapsed Time: 0:00:31 Time:  0:00:31\n",
            "100% (19 of 19) |########################| Elapsed Time: 0:00:03 Time:  0:00:03\n"
          ],
          "name": "stderr"
        },
        {
          "output_type": "stream",
          "text": [
            "\n",
            "Test set: Average loss: 0.4161, Accuracy: 16429/18800 (87.39%)\n",
            "\n",
            "Epoch: 9 of 10\n"
          ],
          "name": "stdout"
        },
        {
          "output_type": "stream",
          "text": [
            "100% (1762 of 1762) |####################| Elapsed Time: 0:00:30 Time:  0:00:30\n",
            "100% (19 of 19) |########################| Elapsed Time: 0:00:03 Time:  0:00:03\n"
          ],
          "name": "stderr"
        },
        {
          "output_type": "stream",
          "text": [
            "\n",
            "Test set: Average loss: 0.4625, Accuracy: 16484/18800 (87.68%)\n",
            "\n",
            "Epoch: 10 of 10\n"
          ],
          "name": "stdout"
        },
        {
          "output_type": "stream",
          "text": [
            "100% (1762 of 1762) |####################| Elapsed Time: 0:00:30 Time:  0:00:30\n",
            "100% (19 of 19) |########################| Elapsed Time: 0:00:03 Time:  0:00:03\n"
          ],
          "name": "stderr"
        },
        {
          "output_type": "stream",
          "text": [
            "\n",
            "Test set: Average loss: 0.4889, Accuracy: 16488/18800 (87.70%)\n",
            "\n"
          ],
          "name": "stdout"
        }
      ]
    },
    {
      "cell_type": "code",
      "metadata": {
        "id": "1qplBwWT3bjA",
        "colab_type": "code",
        "colab": {}
      },
      "source": [
        "import pandas as pd\n",
        "\n",
        "df_hist = pd.read_csv(os.path.join(warmup_type, \"history.csv\"))\n",
        "df_eval = pd.read_csv(os.path.join(warmup_type, \"evaluation.csv\"))"
      ],
      "execution_count": 0,
      "outputs": []
    },
    {
      "cell_type": "code",
      "metadata": {
        "id": "gOBvzvov32YZ",
        "colab_type": "code",
        "outputId": "cb7ff119-0ba8-4558-a9b0-4e02b4fa061d",
        "colab": {
          "base_uri": "https://localhost:8080/",
          "height": 296
        }
      },
      "source": [
        "df_hist.plot(x=\"step\", y=\"lr\")"
      ],
      "execution_count": 11,
      "outputs": [
        {
          "output_type": "execute_result",
          "data": {
            "text/plain": [
              "<matplotlib.axes._subplots.AxesSubplot at 0x7f91abab7c50>"
            ]
          },
          "metadata": {
            "tags": []
          },
          "execution_count": 11
        },
        {
          "output_type": "display_data",
          "data": {
            "image/png": "[encoded data removed]",
            "text/plain": [
              "<Figure size 432x288 with 1 Axes>"
            ]
          },
          "metadata": {
            "tags": []
          }
        }
      ]
    },
    {
      "cell_type": "code",
      "metadata": {
        "id": "H1IC-BIU4BXO",
        "colab_type": "code",
        "outputId": "2951961b-d7b9-4fb9-b438-3684b8f3e8a1",
        "colab": {
          "base_uri": "https://localhost:8080/",
          "height": 300
        }
      },
      "source": [
        "df_hist.plot(x=\"step\", y=\"loss\", ylim=(0,1))"
      ],
      "execution_count": 12,
      "outputs": [
        {
          "output_type": "execute_result",
          "data": {
            "text/plain": [
              "<matplotlib.axes._subplots.AxesSubplot at 0x7f915c00eb38>"
            ]
          },
          "metadata": {
            "tags": []
          },
          "execution_count": 12
        },
        {
          "output_type": "display_data",
          "data": {
            "image/png": "[encoded data removed]",
            "text/plain": [
              "<Figure size 432x288 with 1 Axes>"
            ]
          },
          "metadata": {
            "tags": []
          }
        }
      ]
    },
    {
      "cell_type": "code",
      "metadata": {
        "id": "etb3dM5d4PpR",
        "colab_type": "code",
        "outputId": "d0cec6ff-45b7-4e31-b0de-986910169e28",
        "colab": {
          "base_uri": "https://localhost:8080/",
          "height": 299
        }
      },
      "source": [
        "df_eval.plot(x=\"epoch\", y=\"accuracy\", marker=\"o\")"
      ],
      "execution_count": 13,
      "outputs": [
        {
          "output_type": "execute_result",
          "data": {
            "text/plain": [
              "<matplotlib.axes._subplots.AxesSubplot at 0x7f915bf887b8>"
            ]
          },
          "metadata": {
            "tags": []
          },
          "execution_count": 13
        },
        {
          "output_type": "display_data",
          "data": {
            "image/png": "[encoded data removed]",
            "text/plain": [
              "<Figure size 432x288 with 1 Axes>"
            ]
          },
          "metadata": {
            "tags": []
          }
        }
      ]
    }
  ]
}