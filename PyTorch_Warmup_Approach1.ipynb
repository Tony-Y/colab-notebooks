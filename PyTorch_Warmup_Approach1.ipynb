{
  "nbformat": 4,
  "nbformat_minor": 0,
  "metadata": {
    "colab": {
      "name": "PyTorch-Warmup-Approach1.ipynb",
      "provenance": [],
      "collapsed_sections": [],
      "include_colab_link": true
    },
    "kernelspec": {
      "name": "python3",
      "display_name": "Python 3"
    },
    "accelerator": "GPU",
    "widgets": {
      "application/vnd.jupyter.widget-state+json": {
        "2aff7e9cd52a4f408de995d2867dce5c": {
          "model_module": "@jupyter-widgets/controls",
          "model_name": "HBoxModel",
          "state": {
            "_view_name": "HBoxView",
            "_dom_classes": [],
            "_model_name": "HBoxModel",
            "_view_module": "@jupyter-widgets/controls",
            "_model_module_version": "1.5.0",
            "_view_count": null,
            "_view_module_version": "1.5.0",
            "box_style": "",
            "layout": "IPY_MODEL_7315322d1e6346dc82a21e87754d6647",
            "_model_module": "@jupyter-widgets/controls",
            "children": [
              "IPY_MODEL_3c72c63dd8274663bfeaf5e53d38a931",
              "IPY_MODEL_6badbac7aa6d4148a434df2fa4e8acb8"
            ]
          }
        },
        "7315322d1e6346dc82a21e87754d6647": {
          "model_module": "@jupyter-widgets/base",
          "model_name": "LayoutModel",
          "state": {
            "_view_name": "LayoutView",
            "grid_template_rows": null,
            "right": null,
            "justify_content": null,
            "_view_module": "@jupyter-widgets/base",
            "overflow": null,
            "_model_module_version": "1.2.0",
            "_view_count": null,
            "flex_flow": null,
            "width": null,
            "min_width": null,
            "border": null,
            "align_items": null,
            "bottom": null,
            "_model_module": "@jupyter-widgets/base",
            "top": null,
            "grid_column": null,
            "overflow_y": null,
            "overflow_x": null,
            "grid_auto_flow": null,
            "grid_area": null,
            "grid_template_columns": null,
            "flex": null,
            "_model_name": "LayoutModel",
            "justify_items": null,
            "grid_row": null,
            "max_height": null,
            "align_content": null,
            "visibility": null,
            "align_self": null,
            "height": null,
            "min_height": null,
            "padding": null,
            "grid_auto_rows": null,
            "grid_gap": null,
            "max_width": null,
            "order": null,
            "_view_module_version": "1.2.0",
            "grid_template_areas": null,
            "object_position": null,
            "object_fit": null,
            "grid_auto_columns": null,
            "margin": null,
            "display": null,
            "left": null
          }
        },
        "3c72c63dd8274663bfeaf5e53d38a931": {
          "model_module": "@jupyter-widgets/controls",
          "model_name": "IntProgressModel",
          "state": {
            "_view_name": "ProgressView",
            "style": "IPY_MODEL_3f7ae27589244d0981dd1e982e2298f3",
            "_dom_classes": [],
            "description": "",
            "_model_name": "IntProgressModel",
            "bar_style": "info",
            "max": 1,
            "_view_module": "@jupyter-widgets/controls",
            "_model_module_version": "1.5.0",
            "value": 1,
            "_view_count": null,
            "_view_module_version": "1.5.0",
            "orientation": "horizontal",
            "min": 0,
            "description_tooltip": null,
            "_model_module": "@jupyter-widgets/controls",
            "layout": "IPY_MODEL_b676edbd7f5c4eb9b15ffb67c2392430"
          }
        },
        "6badbac7aa6d4148a434df2fa4e8acb8": {
          "model_module": "@jupyter-widgets/controls",
          "model_name": "HTMLModel",
          "state": {
            "_view_name": "HTMLView",
            "style": "IPY_MODEL_ef50168aa87a44f19f069c554a59da88",
            "_dom_classes": [],
            "description": "",
            "_model_name": "HTMLModel",
            "placeholder": "​",
            "_view_module": "@jupyter-widgets/controls",
            "_model_module_version": "1.5.0",
            "value": "561758208it [00:30, 35240195.24it/s]",
            "_view_count": null,
            "_view_module_version": "1.5.0",
            "description_tooltip": null,
            "_model_module": "@jupyter-widgets/controls",
            "layout": "IPY_MODEL_d7c55ec0c9be42328bc50c9b0a31094b"
          }
        },
        "3f7ae27589244d0981dd1e982e2298f3": {
          "model_module": "@jupyter-widgets/controls",
          "model_name": "ProgressStyleModel",
          "state": {
            "_view_name": "StyleView",
            "_model_name": "ProgressStyleModel",
            "description_width": "",
            "_view_module": "@jupyter-widgets/base",
            "_model_module_version": "1.5.0",
            "_view_count": null,
            "_view_module_version": "1.2.0",
            "bar_color": null,
            "_model_module": "@jupyter-widgets/controls"
          }
        },
        "b676edbd7f5c4eb9b15ffb67c2392430": {
          "model_module": "@jupyter-widgets/base",
          "model_name": "LayoutModel",
          "state": {
            "_view_name": "LayoutView",
            "grid_template_rows": null,
            "right": null,
            "justify_content": null,
            "_view_module": "@jupyter-widgets/base",
            "overflow": null,
            "_model_module_version": "1.2.0",
            "_view_count": null,
            "flex_flow": null,
            "width": null,
            "min_width": null,
            "border": null,
            "align_items": null,
            "bottom": null,
            "_model_module": "@jupyter-widgets/base",
            "top": null,
            "grid_column": null,
            "overflow_y": null,
            "overflow_x": null,
            "grid_auto_flow": null,
            "grid_area": null,
            "grid_template_columns": null,
            "flex": null,
            "_model_name": "LayoutModel",
            "justify_items": null,
            "grid_row": null,
            "max_height": null,
            "align_content": null,
            "visibility": null,
            "align_self": null,
            "height": null,
            "min_height": null,
            "padding": null,
            "grid_auto_rows": null,
            "grid_gap": null,
            "max_width": null,
            "order": null,
            "_view_module_version": "1.2.0",
            "grid_template_areas": null,
            "object_position": null,
            "object_fit": null,
            "grid_auto_columns": null,
            "margin": null,
            "display": null,
            "left": null
          }
        },
        "ef50168aa87a44f19f069c554a59da88": {
          "model_module": "@jupyter-widgets/controls",
          "model_name": "DescriptionStyleModel",
          "state": {
            "_view_name": "StyleView",
            "_model_name": "DescriptionStyleModel",
            "description_width": "",
            "_view_module": "@jupyter-widgets/base",
            "_model_module_version": "1.5.0",
            "_view_count": null,
            "_view_module_version": "1.2.0",
            "_model_module": "@jupyter-widgets/controls"
          }
        },
        "d7c55ec0c9be42328bc50c9b0a31094b": {
          "model_module": "@jupyter-widgets/base",
          "model_name": "LayoutModel",
          "state": {
            "_view_name": "LayoutView",
            "grid_template_rows": null,
            "right": null,
            "justify_content": null,
            "_view_module": "@jupyter-widgets/base",
            "overflow": null,
            "_model_module_version": "1.2.0",
            "_view_count": null,
            "flex_flow": null,
            "width": null,
            "min_width": null,
            "border": null,
            "align_items": null,
            "bottom": null,
            "_model_module": "@jupyter-widgets/base",
            "top": null,
            "grid_column": null,
            "overflow_y": null,
            "overflow_x": null,
            "grid_auto_flow": null,
            "grid_area": null,
            "grid_template_columns": null,
            "flex": null,
            "_model_name": "LayoutModel",
            "justify_items": null,
            "grid_row": null,
            "max_height": null,
            "align_content": null,
            "visibility": null,
            "align_self": null,
            "height": null,
            "min_height": null,
            "padding": null,
            "grid_auto_rows": null,
            "grid_gap": null,
            "max_width": null,
            "order": null,
            "_view_module_version": "1.2.0",
            "grid_template_areas": null,
            "object_position": null,
            "object_fit": null,
            "grid_auto_columns": null,
            "margin": null,
            "display": null,
            "left": null
          }
        }
      }
    }
  },
  "cells": [
    {
      "cell_type": "markdown",
      "metadata": {
        "id": "view-in-github",
        "colab_type": "text"
      },
      "source": [
        "<a href=\"https://colab.research.google.com/github/Tony-Y/colab-notebooks/blob/master/PyTorch_Warmup_Approach1.ipynb\" target=\"_parent\"><img src=\"https://colab.research.google.com/assets/colab-badge.svg\" alt=\"Open In Colab\"/></a>"
      ]
    },
    {
      "cell_type": "code",
      "metadata": {
        "id": "2oZeEME2xbWk",
        "colab_type": "code",
        "outputId": "4cef6ec1-7467-40cd-a9e1-7cf9478017b9",
        "colab": {
          "base_uri": "https://localhost:8080/",
          "height": 122
        }
      },
      "source": [
        "!pip install pytorch_warmup"
      ],
      "execution_count": 1,
      "outputs": [
        {
          "output_type": "stream",
          "text": [
            "Collecting pytorch_warmup\n",
            "  Downloading https://files.pythonhosted.org/packages/7a/22/2fb600a06a1d1b493d54ac8fa6c41e96870985992fc504104e0620bc2ea4/pytorch_warmup-0.0.4-py3-none-any.whl\n",
            "Requirement already satisfied: torch>=1.1 in /usr/local/lib/python3.6/dist-packages (from pytorch_warmup) (1.4.0)\n",
            "Installing collected packages: pytorch-warmup\n",
            "Successfully installed pytorch-warmup-0.0.4\n"
          ],
          "name": "stdout"
        }
      ]
    },
    {
      "cell_type": "code",
      "metadata": {
        "id": "UnFPsZdvxvD0",
        "colab_type": "code",
        "colab": {}
      },
      "source": [
        "import torch\n",
        "import torch.nn as nn\n",
        "import torch.nn.functional as F\n",
        "import torch.optim as optim\n",
        "from torchvision import datasets, transforms\n",
        "\n",
        "import pytorch_warmup as warmup\n",
        "import os\n",
        "from progressbar import progressbar"
      ],
      "execution_count": 0,
      "outputs": []
    },
    {
      "cell_type": "code",
      "metadata": {
        "id": "QKNgNEQGyAN0",
        "colab_type": "code",
        "colab": {}
      },
      "source": [
        "class Net(nn.Module):\n",
        "    def __init__(self):\n",
        "        super(Net, self).__init__()\n",
        "        self.conv1 = nn.Conv2d(1, 20, 5, 1)\n",
        "        self.conv2 = nn.Conv2d(20, 50, 5, 1)\n",
        "        self.fc1 = nn.Linear(4*4*50, 500)\n",
        "        self.fc2 = nn.Linear(500, 47)\n",
        "\n",
        "    def forward(self, x):\n",
        "        x = F.relu(self.conv1(x))\n",
        "        x = F.max_pool2d(x, 2, 2)\n",
        "        x = F.relu(self.conv2(x))\n",
        "        x = F.max_pool2d(x, 2, 2)\n",
        "        x = x.view(-1, 4*4*50)\n",
        "        x = F.relu(self.fc1(x))\n",
        "        x = self.fc2(x)\n",
        "        return F.log_softmax(x, dim=1)"
      ],
      "execution_count": 0,
      "outputs": []
    },
    {
      "cell_type": "code",
      "metadata": {
        "id": "cgrcrd9myGSp",
        "colab_type": "code",
        "colab": {}
      },
      "source": [
        "def train(model, device, train_loader, optimizer, lr_scheduler,\n",
        "          warmup_scheduler, epoch, history):\n",
        "    model.train()\n",
        "    for batch_idx, (data, target) in enumerate(progressbar(train_loader)):\n",
        "        lr = optimizer.param_groups[0]['lr']\n",
        "        data, target = data.to(device), target.to(device)\n",
        "        optimizer.zero_grad()\n",
        "        output = model(data)\n",
        "        loss = F.nll_loss(output, target)\n",
        "        loss.backward()\n",
        "        optimizer.step()\n",
        "        lr_scheduler.step(lr_scheduler.last_epoch+1)\n",
        "        warmup_scheduler.dampen()\n",
        "        if (batch_idx+1) % log_interval == 0:\n",
        "            loss = loss.item()\n",
        "            step = warmup_scheduler.last_step\n",
        "            history.write(f'{epoch},{step},{loss},{lr}\\n')"
      ],
      "execution_count": 0,
      "outputs": []
    },
    {
      "cell_type": "code",
      "metadata": {
        "id": "-tL5QF6myKnH",
        "colab_type": "code",
        "colab": {}
      },
      "source": [
        "def test(model, device, test_loader, epoch, evaluation):\n",
        "    model.eval()\n",
        "    test_loss = 0\n",
        "    correct = 0\n",
        "    with torch.no_grad():\n",
        "        for data, target in progressbar(test_loader):\n",
        "            data, target = data.to(device), target.to(device)\n",
        "            output = model(data)\n",
        "            test_loss += F.nll_loss(output, target, reduction='sum').item()  # sum up batch loss\n",
        "            pred = output.argmax(dim=1, keepdim=True)  # get the index of the max log-probability\n",
        "            correct += pred.eq(target.view_as(pred)).sum().item()\n",
        "\n",
        "    test_loss /= len(test_loader.dataset)\n",
        "    test_acc = 100. * correct / len(test_loader.dataset)\n",
        "    print('\\nTest set: Average loss: {:.4f}, Accuracy: {}/{} ({:.2f}%)\\n'.format(\n",
        "        test_loss, correct, len(test_loader.dataset), test_acc))\n",
        "    evaluation.write(f'{epoch},{test_loss},{test_acc}\\n')\n",
        "    evaluation.flush()"
      ],
      "execution_count": 0,
      "outputs": []
    },
    {
      "cell_type": "code",
      "metadata": {
        "id": "IBgLy-Zzy3qk",
        "colab_type": "code",
        "outputId": "f2d59516-2648-4605-dc00-2bfcf11fc57e",
        "colab": {
          "base_uri": "https://localhost:8080/",
          "height": 83,
          "referenced_widgets": [
            "2aff7e9cd52a4f408de995d2867dce5c",
            "7315322d1e6346dc82a21e87754d6647",
            "3c72c63dd8274663bfeaf5e53d38a931",
            "6badbac7aa6d4148a434df2fa4e8acb8",
            "3f7ae27589244d0981dd1e982e2298f3",
            "b676edbd7f5c4eb9b15ffb67c2392430",
            "ef50168aa87a44f19f069c554a59da88",
            "d7c55ec0c9be42328bc50c9b0a31094b"
          ]
        }
      },
      "source": [
        "from torchvision.datasets.utils import download_url, makedir_exist_ok\n",
        "\n",
        "raw_folder = '.data/EMNIST/raw'\n",
        "\n",
        "url = 'http://www.itl.nist.gov/iaui/vip/cs_links/EMNIST/gzip.zip'\n",
        "md5 = \"58c8d27c78d21e728a6bc7b3cc06412e\"\n",
        "\n",
        "makedir_exist_ok(raw_folder)\n",
        "\n",
        "# download files\n",
        "print('Downloading zip archive')\n",
        "download_url(url, root=raw_folder, filename=\"emnist.zip\", md5=md5)"
      ],
      "execution_count": 6,
      "outputs": [
        {
          "output_type": "stream",
          "text": [
            "Downloading zip archive\n",
            "Downloading http://www.itl.nist.gov/iaui/vip/cs_links/EMNIST/gzip.zip to .data/EMNIST/raw/emnist.zip\n"
          ],
          "name": "stdout"
        },
        {
          "output_type": "display_data",
          "data": {
            "application/vnd.jupyter.widget-view+json": {
              "model_id": "2aff7e9cd52a4f408de995d2867dce5c",
              "version_minor": 0,
              "version_major": 2
            },
            "text/plain": [
              "HBox(children=(IntProgress(value=1, bar_style='info', max=1), HTML(value='')))"
            ]
          },
          "metadata": {
            "tags": []
          }
        }
      ]
    },
    {
      "cell_type": "code",
      "metadata": {
        "id": "lOql7D5ryRVr",
        "colab_type": "code",
        "colab": {
          "base_uri": "https://localhost:8080/",
          "height": 187
        },
        "outputId": "f9665544-0171-4115-e64e-2f90e0cdd6eb"
      },
      "source": [
        "torch.manual_seed(12345)\n",
        "device = torch.device(\"cuda\")\n",
        "\n",
        "kwargs = {'num_workers': 1, 'pin_memory': True}\n",
        "train_loader = torch.utils.data.DataLoader(\n",
        "        datasets.EMNIST('.data', 'balanced', train=True, download=True,\n",
        "                        transform=transforms.Compose([\n",
        "                            transforms.ToTensor(),\n",
        "                            transforms.Normalize((0.1751,), (0.3332,))\n",
        "                        ])),\n",
        "        batch_size=64, shuffle=True, drop_last=True, **kwargs)\n",
        "test_loader = torch.utils.data.DataLoader(\n",
        "        datasets.EMNIST('.data', 'balanced', train=False,\n",
        "                        transform=transforms.Compose([\n",
        "                            transforms.ToTensor(),\n",
        "                            transforms.Normalize((0.1751,), (0.3332,))\n",
        "                        ])),\n",
        "        batch_size=1000, shuffle=False, **kwargs)"
      ],
      "execution_count": 7,
      "outputs": [
        {
          "output_type": "stream",
          "text": [
            "Downloading and extracting zip archive\n",
            "Using downloaded and verified file: .data/EMNIST/raw/emnist.zip\n",
            "Extracting .data/EMNIST/raw/emnist.zip to .data/EMNIST/raw\n",
            "Processing byclass\n",
            "Processing bymerge\n",
            "Processing balanced\n",
            "Processing letters\n",
            "Processing digits\n",
            "Processing mnist\n",
            "Done!\n"
          ],
          "name": "stdout"
        }
      ]
    },
    {
      "cell_type": "code",
      "metadata": {
        "id": "jhKBh5nYzoWH",
        "colab_type": "code",
        "colab": {}
      },
      "source": [
        "warmup_type = \"radam\"  # choices=['linear', 'exponential', 'radam', 'none']\n",
        "beta2 = 0.999\n",
        "wd = 0.01\n",
        "lr = 0.01\n",
        "lr_min = 3e-5\n",
        "epochs = 10\n",
        "log_interval = 10\n"
      ],
      "execution_count": 0,
      "outputs": []
    },
    {
      "cell_type": "code",
      "metadata": {
        "id": "YeKnCCxv1E1x",
        "colab_type": "code",
        "outputId": "0be24c42-a6b7-4307-e9be-2aa04c5e14e0",
        "colab": {
          "base_uri": "https://localhost:8080/",
          "height": 1000
        }
      },
      "source": [
        "output_dir = warmup_type\n",
        "os.makedirs(output_dir, exist_ok=True)\n",
        "\n",
        "history = open(os.path.join(output_dir, 'history.csv'), 'w')\n",
        "history.write('epoch,step,loss,lr\\n')\n",
        "\n",
        "evaluation = open(os.path.join(output_dir, 'evaluation.csv'), 'w')\n",
        "evaluation.write('epoch,loss,accuracy\\n')\n",
        "\n",
        "model = Net().to(device)\n",
        "\n",
        "optimizer = optim.AdamW(model.parameters(), lr=lr,\n",
        "                            betas=(0.9, beta2),\n",
        "                            weight_decay=wd)\n",
        "num_steps = len(train_loader) * epochs\n",
        "lr_scheduler = optim.lr_scheduler.CosineAnnealingLR(\n",
        "        optimizer, T_max=num_steps, eta_min=lr_min)\n",
        "if warmup_type == 'linear':\n",
        "        warmup_scheduler = warmup.UntunedLinearWarmup(optimizer)\n",
        "elif warmup_type == 'exponential':\n",
        "        warmup_scheduler = warmup.UntunedExponentialWarmup(optimizer)\n",
        "elif warmup_type == 'radam':\n",
        "        warmup_scheduler = warmup.RAdamWarmup(optimizer)\n",
        "elif warmup_type == 'none':\n",
        "        warmup_scheduler = warmup.LinearWarmup(optimizer, 1)\n",
        "\n",
        "for epoch in range(1, epochs + 1):\n",
        "        print(f\"Epoch: {epoch} of {epochs}\")\n",
        "        train(model, device, train_loader, optimizer, lr_scheduler,\n",
        "              warmup_scheduler, epoch, history)\n",
        "        test(model, device, test_loader, epoch, evaluation)\n",
        "\n",
        "history.close()\n",
        "evaluation.close()"
      ],
      "execution_count": 9,
      "outputs": [
        {
          "output_type": "stream",
          "text": [
            "Epoch: 1 of 10\n"
          ],
          "name": "stdout"
        },
        {
          "output_type": "stream",
          "text": [
            "100% (1762 of 1762) |####################| Elapsed Time: 0:00:23 Time:  0:00:23\n",
            "100% (19 of 19) |########################| Elapsed Time: 0:00:02 Time:  0:00:02\n"
          ],
          "name": "stderr"
        },
        {
          "output_type": "stream",
          "text": [
            "\n",
            "Test set: Average loss: 0.5504, Accuracy: 15295/18800 (81.36%)\n",
            "\n",
            "Epoch: 2 of 10\n"
          ],
          "name": "stdout"
        },
        {
          "output_type": "stream",
          "text": [
            "100% (1762 of 1762) |####################| Elapsed Time: 0:00:23 Time:  0:00:23\n",
            "100% (19 of 19) |########################| Elapsed Time: 0:00:02 Time:  0:00:02\n"
          ],
          "name": "stderr"
        },
        {
          "output_type": "stream",
          "text": [
            "\n",
            "Test set: Average loss: 0.5268, Accuracy: 15528/18800 (82.60%)\n",
            "\n",
            "Epoch: 3 of 10\n"
          ],
          "name": "stdout"
        },
        {
          "output_type": "stream",
          "text": [
            "100% (1762 of 1762) |####################| Elapsed Time: 0:00:23 Time:  0:00:23\n",
            "100% (19 of 19) |########################| Elapsed Time: 0:00:02 Time:  0:00:02\n"
          ],
          "name": "stderr"
        },
        {
          "output_type": "stream",
          "text": [
            "\n",
            "Test set: Average loss: 0.5109, Accuracy: 15588/18800 (82.91%)\n",
            "\n",
            "Epoch: 4 of 10\n"
          ],
          "name": "stdout"
        },
        {
          "output_type": "stream",
          "text": [
            "100% (1762 of 1762) |####################| Elapsed Time: 0:00:24 Time:  0:00:24\n",
            "100% (19 of 19) |########################| Elapsed Time: 0:00:02 Time:  0:00:02\n"
          ],
          "name": "stderr"
        },
        {
          "output_type": "stream",
          "text": [
            "\n",
            "Test set: Average loss: 0.4739, Accuracy: 15897/18800 (84.56%)\n",
            "\n",
            "Epoch: 5 of 10\n"
          ],
          "name": "stdout"
        },
        {
          "output_type": "stream",
          "text": [
            "100% (1762 of 1762) |####################| Elapsed Time: 0:00:23 Time:  0:00:23\n",
            "100% (19 of 19) |########################| Elapsed Time: 0:00:02 Time:  0:00:02\n"
          ],
          "name": "stderr"
        },
        {
          "output_type": "stream",
          "text": [
            "\n",
            "Test set: Average loss: 0.4252, Accuracy: 16093/18800 (85.60%)\n",
            "\n",
            "Epoch: 6 of 10\n"
          ],
          "name": "stdout"
        },
        {
          "output_type": "stream",
          "text": [
            "100% (1762 of 1762) |####################| Elapsed Time: 0:00:23 Time:  0:00:23\n",
            "100% (19 of 19) |########################| Elapsed Time: 0:00:02 Time:  0:00:02\n"
          ],
          "name": "stderr"
        },
        {
          "output_type": "stream",
          "text": [
            "\n",
            "Test set: Average loss: 0.4085, Accuracy: 16211/18800 (86.23%)\n",
            "\n",
            "Epoch: 7 of 10\n"
          ],
          "name": "stdout"
        },
        {
          "output_type": "stream",
          "text": [
            "100% (1762 of 1762) |####################| Elapsed Time: 0:00:24 Time:  0:00:24\n",
            "100% (19 of 19) |########################| Elapsed Time: 0:00:02 Time:  0:00:02\n"
          ],
          "name": "stderr"
        },
        {
          "output_type": "stream",
          "text": [
            "\n",
            "Test set: Average loss: 0.3919, Accuracy: 16383/18800 (87.14%)\n",
            "\n",
            "Epoch: 8 of 10\n"
          ],
          "name": "stdout"
        },
        {
          "output_type": "stream",
          "text": [
            "100% (1762 of 1762) |####################| Elapsed Time: 0:00:24 Time:  0:00:24\n",
            "100% (19 of 19) |########################| Elapsed Time: 0:00:02 Time:  0:00:02\n"
          ],
          "name": "stderr"
        },
        {
          "output_type": "stream",
          "text": [
            "\n",
            "Test set: Average loss: 0.4127, Accuracy: 16425/18800 (87.37%)\n",
            "\n",
            "Epoch: 9 of 10\n"
          ],
          "name": "stdout"
        },
        {
          "output_type": "stream",
          "text": [
            "100% (1762 of 1762) |####################| Elapsed Time: 0:00:24 Time:  0:00:24\n",
            "100% (19 of 19) |########################| Elapsed Time: 0:00:02 Time:  0:00:02\n"
          ],
          "name": "stderr"
        },
        {
          "output_type": "stream",
          "text": [
            "\n",
            "Test set: Average loss: 0.4454, Accuracy: 16491/18800 (87.72%)\n",
            "\n",
            "Epoch: 10 of 10\n"
          ],
          "name": "stdout"
        },
        {
          "output_type": "stream",
          "text": [
            "100% (1762 of 1762) |####################| Elapsed Time: 0:00:24 Time:  0:00:24\n",
            "100% (19 of 19) |########################| Elapsed Time: 0:00:02 Time:  0:00:02\n"
          ],
          "name": "stderr"
        },
        {
          "output_type": "stream",
          "text": [
            "\n",
            "Test set: Average loss: 0.4664, Accuracy: 16479/18800 (87.65%)\n",
            "\n"
          ],
          "name": "stdout"
        }
      ]
    },
    {
      "cell_type": "code",
      "metadata": {
        "id": "1qplBwWT3bjA",
        "colab_type": "code",
        "colab": {}
      },
      "source": [
        "import pandas as pd\n",
        "\n",
        "df_hist = pd.read_csv(os.path.join(warmup_type, \"history.csv\"))\n",
        "df_eval = pd.read_csv(os.path.join(warmup_type, \"evaluation.csv\"))"
      ],
      "execution_count": 0,
      "outputs": []
    },
    {
      "cell_type": "code",
      "metadata": {
        "id": "gOBvzvov32YZ",
        "colab_type": "code",
        "outputId": "1c3a954e-3fb7-4fc2-fd2b-ae5f8de257ff",
        "colab": {
          "base_uri": "https://localhost:8080/",
          "height": 296
        }
      },
      "source": [
        "df_hist.plot(x=\"step\", y=\"lr\")"
      ],
      "execution_count": 11,
      "outputs": [
        {
          "output_type": "execute_result",
          "data": {
            "text/plain": [
              "<matplotlib.axes._subplots.AxesSubplot at 0x7f16269a82e8>"
            ]
          },
          "metadata": {
            "tags": []
          },
          "execution_count": 11
        },
        {
          "output_type": "display_data",
          "data": {
            "image/png": "[encoded data removed]",
            "text/plain": [
              "<Figure size 432x288 with 1 Axes>"
            ]
          },
          "metadata": {
            "tags": []
          }
        }
      ]
    },
    {
      "cell_type": "code",
      "metadata": {
        "id": "H1IC-BIU4BXO",
        "colab_type": "code",
        "outputId": "10f51c5b-d5ab-447e-d2aa-d4c122531ef1",
        "colab": {
          "base_uri": "https://localhost:8080/",
          "height": 300
        }
      },
      "source": [
        "df_hist.plot(x=\"step\", y=\"loss\", ylim=(0,1))"
      ],
      "execution_count": 12,
      "outputs": [
        {
          "output_type": "execute_result",
          "data": {
            "text/plain": [
              "<matplotlib.axes._subplots.AxesSubplot at 0x7f161cc7cb70>"
            ]
          },
          "metadata": {
            "tags": []
          },
          "execution_count": 12
        },
        {
          "output_type": "display_data",
          "data": {
            "image/png": "[encoded data removed]",
            "text/plain": [
              "<Figure size 432x288 with 1 Axes>"
            ]
          },
          "metadata": {
            "tags": []
          }
        }
      ]
    },
    {
      "cell_type": "code",
      "metadata": {
        "id": "etb3dM5d4PpR",
        "colab_type": "code",
        "outputId": "704d5bb9-ad6d-49f0-b8e5-2398c61841ac",
        "colab": {
          "base_uri": "https://localhost:8080/",
          "height": 299
        }
      },
      "source": [
        "df_eval.plot(x=\"epoch\", y=\"accuracy\", marker=\"o\")"
      ],
      "execution_count": 13,
      "outputs": [
        {
          "output_type": "execute_result",
          "data": {
            "text/plain": [
              "<matplotlib.axes._subplots.AxesSubplot at 0x7f161cdce518>"
            ]
          },
          "metadata": {
            "tags": []
          },
          "execution_count": 13
        },
        {
          "output_type": "display_data",
          "data": {
            "image/png": "[encoded data removed]",
            "text/plain": [
              "<Figure size 432x288 with 1 Axes>"
            ]
          },
          "metadata": {
            "tags": []
          }
        }
      ]
    }
  ]
}