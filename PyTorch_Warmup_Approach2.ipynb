{
  "nbformat": 4,
  "nbformat_minor": 0,
  "metadata": {
    "colab": {
      "name": "PyTorch-Warmup-Approach2.ipynb",
      "provenance": [],
      "collapsed_sections": [],
      "include_colab_link": true
    },
    "kernelspec": {
      "name": "python3",
      "display_name": "Python 3"
    },
    "accelerator": "GPU"
  },
  "cells": [
    {
      "cell_type": "markdown",
      "metadata": {
        "id": "view-in-github",
        "colab_type": "text"
      },
      "source": [
        "<a href=\"https://colab.research.google.com/github/Tony-Y/colab-notebooks/blob/master/PyTorch_Warmup_Approach2.ipynb\" target=\"_parent\"><img src=\"https://colab.research.google.com/assets/colab-badge.svg\" alt=\"Open In Colab\"/></a>"
      ]
    },
    {
      "cell_type": "code",
      "metadata": {
        "id": "2oZeEME2xbWk",
        "colab_type": "code",
        "outputId": "4dc003bc-eb33-4343-ff27-2da9f81fcd19",
        "colab": {
          "base_uri": "https://localhost:8080/",
          "height": 68
        }
      },
      "source": [
        "!pip install pytorch_warmup"
      ],
      "execution_count": 1,
      "outputs": [
        {
          "output_type": "stream",
          "text": [
            "Requirement already satisfied: pytorch_warmup in /usr/local/lib/python3.6/dist-packages (0.0.3)\n",
            "Requirement already satisfied: torch>=1.1 in /usr/local/lib/python3.6/dist-packages (from pytorch_warmup) (1.3.0+cu100)\n",
            "Requirement already satisfied: numpy in /usr/local/lib/python3.6/dist-packages (from torch>=1.1->pytorch_warmup) (1.17.3)\n"
          ],
          "name": "stdout"
        }
      ]
    },
    {
      "cell_type": "code",
      "metadata": {
        "id": "UnFPsZdvxvD0",
        "colab_type": "code",
        "colab": {}
      },
      "source": [
        "import torch\n",
        "import torch.nn as nn\n",
        "import torch.nn.functional as F\n",
        "import torch.optim as optim\n",
        "from torchvision import datasets, transforms\n",
        "\n",
        "import pytorch_warmup as warmup\n",
        "import os\n",
        "from progressbar import progressbar\n",
        "\n",
        "import warnings\n",
        "warnings.filterwarnings('ignore')"
      ],
      "execution_count": 0,
      "outputs": []
    },
    {
      "cell_type": "code",
      "metadata": {
        "id": "QKNgNEQGyAN0",
        "colab_type": "code",
        "colab": {}
      },
      "source": [
        "class Net(nn.Module):\n",
        "    def __init__(self):\n",
        "        super(Net, self).__init__()\n",
        "        self.conv1 = nn.Conv2d(1, 20, 5, 1)\n",
        "        self.conv2 = nn.Conv2d(20, 50, 5, 1)\n",
        "        self.fc1 = nn.Linear(4*4*50, 500)\n",
        "        self.fc2 = nn.Linear(500, 47)\n",
        "\n",
        "    def forward(self, x):\n",
        "        x = F.relu(self.conv1(x))\n",
        "        x = F.max_pool2d(x, 2, 2)\n",
        "        x = F.relu(self.conv2(x))\n",
        "        x = F.max_pool2d(x, 2, 2)\n",
        "        x = x.view(-1, 4*4*50)\n",
        "        x = F.relu(self.fc1(x))\n",
        "        x = self.fc2(x)\n",
        "        return F.log_softmax(x, dim=1)"
      ],
      "execution_count": 0,
      "outputs": []
    },
    {
      "cell_type": "code",
      "metadata": {
        "id": "cgrcrd9myGSp",
        "colab_type": "code",
        "colab": {}
      },
      "source": [
        "def train(model, device, train_loader, optimizer, lr_scheduler,\n",
        "          warmup_scheduler, epoch, history):\n",
        "    model.train()\n",
        "    for batch_idx, (data, target) in enumerate(progressbar(train_loader)):\n",
        "        lr_scheduler.step(epoch-1)\n",
        "        warmup_scheduler.dampen()\n",
        "        lr = optimizer.param_groups[0]['lr']\n",
        "        data, target = data.to(device), target.to(device)\n",
        "        optimizer.zero_grad()\n",
        "        output = model(data)\n",
        "        loss = F.nll_loss(output, target)\n",
        "        loss.backward()\n",
        "        optimizer.step()\n",
        "        if (batch_idx+1) % log_interval == 0:\n",
        "            loss = loss.item()\n",
        "            step = warmup_scheduler.last_step\n",
        "            history.write(f'{epoch},{step},{loss},{lr}\\n')"
      ],
      "execution_count": 0,
      "outputs": []
    },
    {
      "cell_type": "code",
      "metadata": {
        "id": "-tL5QF6myKnH",
        "colab_type": "code",
        "colab": {}
      },
      "source": [
        "def test(model, device, test_loader, epoch, evaluation):\n",
        "    model.eval()\n",
        "    test_loss = 0\n",
        "    correct = 0\n",
        "    with torch.no_grad():\n",
        "        for data, target in progressbar(test_loader):\n",
        "            data, target = data.to(device), target.to(device)\n",
        "            output = model(data)\n",
        "            test_loss += F.nll_loss(output, target, reduction='sum').item()  # sum up batch loss\n",
        "            pred = output.argmax(dim=1, keepdim=True)  # get the index of the max log-probability\n",
        "            correct += pred.eq(target.view_as(pred)).sum().item()\n",
        "\n",
        "    test_loss /= len(test_loader.dataset)\n",
        "    test_acc = 100. * correct / len(test_loader.dataset)\n",
        "    print('\\nTest set: Average loss: {:.4f}, Accuracy: {}/{} ({:.2f}%)\\n'.format(\n",
        "        test_loss, correct, len(test_loader.dataset), test_acc))\n",
        "    evaluation.write(f'{epoch},{test_loss},{test_acc}\\n')\n",
        "    evaluation.flush()"
      ],
      "execution_count": 0,
      "outputs": []
    },
    {
      "cell_type": "code",
      "metadata": {
        "id": "IBgLy-Zzy3qk",
        "colab_type": "code",
        "outputId": "ae883065-55d1-4a5e-cdd2-5d3fdb81639b",
        "colab": {
          "base_uri": "https://localhost:8080/",
          "height": 51
        }
      },
      "source": [
        "from torchvision.datasets.utils import download_url, makedir_exist_ok\n",
        "\n",
        "raw_folder = '.data/EMNIST/raw'\n",
        "\n",
        "url = 'http://www.itl.nist.gov/iaui/vip/cs_links/EMNIST/gzip.zip'\n",
        "md5 = \"58c8d27c78d21e728a6bc7b3cc06412e\"\n",
        "\n",
        "makedir_exist_ok(raw_folder)\n",
        "\n",
        "# download files\n",
        "print('Downloading zip archive')\n",
        "download_url(url, root=raw_folder, filename=\"emnist.zip\", md5=md5)"
      ],
      "execution_count": 6,
      "outputs": [
        {
          "output_type": "stream",
          "text": [
            "Downloading zip archive\n",
            "Using downloaded and verified file: .data/EMNIST/raw/emnist.zip\n"
          ],
          "name": "stdout"
        }
      ]
    },
    {
      "cell_type": "code",
      "metadata": {
        "id": "lOql7D5ryRVr",
        "colab_type": "code",
        "colab": {}
      },
      "source": [
        "torch.manual_seed(12345)\n",
        "device = torch.device(\"cuda\")\n",
        "\n",
        "kwargs = {'num_workers': 1, 'pin_memory': True}\n",
        "train_loader = torch.utils.data.DataLoader(\n",
        "        datasets.EMNIST('.data', 'balanced', train=True, download=True,\n",
        "                        transform=transforms.Compose([\n",
        "                            transforms.ToTensor(),\n",
        "                            transforms.Normalize((0.1751,), (0.3332,))\n",
        "                        ])),\n",
        "        batch_size=64, shuffle=True, drop_last=True, **kwargs)\n",
        "test_loader = torch.utils.data.DataLoader(\n",
        "        datasets.EMNIST('.data', 'balanced', train=False,\n",
        "                        transform=transforms.Compose([\n",
        "                            transforms.ToTensor(),\n",
        "                            transforms.Normalize((0.1751,), (0.3332,))\n",
        "                        ])),\n",
        "        batch_size=1000, shuffle=False, **kwargs)"
      ],
      "execution_count": 0,
      "outputs": []
    },
    {
      "cell_type": "code",
      "metadata": {
        "id": "jhKBh5nYzoWH",
        "colab_type": "code",
        "colab": {}
      },
      "source": [
        "warmup_type = \"radam\"  # choices=['linear', 'exponential', 'radam', 'none']\n",
        "beta2 = 0.999\n",
        "wd = 0.01\n",
        "lr = 0.01\n",
        "epochs = 10\n",
        "milestones = [3, 7]\n",
        "gamma = 0.1\n",
        "log_interval = 10"
      ],
      "execution_count": 0,
      "outputs": []
    },
    {
      "cell_type": "code",
      "metadata": {
        "id": "YeKnCCxv1E1x",
        "colab_type": "code",
        "outputId": "f2af45b7-3650-476f-e601-8640b9c24814",
        "colab": {
          "base_uri": "https://localhost:8080/",
          "height": 1000
        }
      },
      "source": [
        "output_dir = warmup_type\n",
        "os.makedirs(output_dir, exist_ok=True)\n",
        "\n",
        "history = open(os.path.join(output_dir, 'history.csv'), 'w')\n",
        "history.write('epoch,step,loss,lr\\n')\n",
        "\n",
        "evaluation = open(os.path.join(output_dir, 'evaluation.csv'), 'w')\n",
        "evaluation.write('epoch,loss,accuracy\\n')\n",
        "\n",
        "model = Net().to(device)\n",
        "\n",
        "optimizer = optim.AdamW(model.parameters(), lr=lr,\n",
        "                            betas=(0.9, beta2),\n",
        "                            weight_decay=wd)\n",
        "lr_scheduler = optim.lr_scheduler.MultiStepLR(\n",
        "        optimizer, milestones, gamma)\n",
        "if warmup_type == 'linear':\n",
        "        warmup_scheduler = warmup.UntunedLinearWarmup(optimizer)\n",
        "elif warmup_type == 'exponential':\n",
        "        warmup_scheduler = warmup.UntunedExponentialWarmup(optimizer)\n",
        "elif warmup_type == 'radam':\n",
        "        warmup_scheduler = warmup.RAdamWarmup(optimizer)\n",
        "elif warmup_type == 'none':\n",
        "        warmup_scheduler = warmup.LinearWarmup(optimizer, 1)\n",
        "\n",
        "warmup_scheduler.last_step = -1 # initialize the step counter\n",
        "for epoch in range(1, epochs + 1):\n",
        "        print(f\"Epoch: {epoch} of {epochs}\")\n",
        "        train(model, device, train_loader, optimizer, lr_scheduler,\n",
        "              warmup_scheduler, epoch, history)\n",
        "        test(model, device, test_loader, epoch, evaluation)\n",
        "\n",
        "history.close()\n",
        "evaluation.close()"
      ],
      "execution_count": 9,
      "outputs": [
        {
          "output_type": "stream",
          "text": [
            "Epoch: 1 of 10\n"
          ],
          "name": "stdout"
        },
        {
          "output_type": "stream",
          "text": [
            "100% (1762 of 1762) |####################| Elapsed Time: 0:00:30 Time:  0:00:30\n",
            "100% (19 of 19) |########################| Elapsed Time: 0:00:03 Time:  0:00:03\n"
          ],
          "name": "stderr"
        },
        {
          "output_type": "stream",
          "text": [
            "\n",
            "Test set: Average loss: 0.5293, Accuracy: 15458/18800 (82.22%)\n",
            "\n",
            "Epoch: 2 of 10\n"
          ],
          "name": "stdout"
        },
        {
          "output_type": "stream",
          "text": [
            "100% (1762 of 1762) |####################| Elapsed Time: 0:00:31 Time:  0:00:31\n",
            "100% (19 of 19) |########################| Elapsed Time: 0:00:03 Time:  0:00:03\n"
          ],
          "name": "stderr"
        },
        {
          "output_type": "stream",
          "text": [
            "\n",
            "Test set: Average loss: 0.5378, Accuracy: 15575/18800 (82.85%)\n",
            "\n",
            "Epoch: 3 of 10\n"
          ],
          "name": "stdout"
        },
        {
          "output_type": "stream",
          "text": [
            "100% (1762 of 1762) |####################| Elapsed Time: 0:00:31 Time:  0:00:31\n",
            "100% (19 of 19) |########################| Elapsed Time: 0:00:03 Time:  0:00:03\n"
          ],
          "name": "stderr"
        },
        {
          "output_type": "stream",
          "text": [
            "\n",
            "Test set: Average loss: 0.5647, Accuracy: 15339/18800 (81.59%)\n",
            "\n",
            "Epoch: 4 of 10\n"
          ],
          "name": "stdout"
        },
        {
          "output_type": "stream",
          "text": [
            "100% (1762 of 1762) |####################| Elapsed Time: 0:00:31 Time:  0:00:31\n",
            "100% (19 of 19) |########################| Elapsed Time: 0:00:03 Time:  0:00:03\n"
          ],
          "name": "stderr"
        },
        {
          "output_type": "stream",
          "text": [
            "\n",
            "Test set: Average loss: 0.3871, Accuracy: 16330/18800 (86.86%)\n",
            "\n",
            "Epoch: 5 of 10\n"
          ],
          "name": "stdout"
        },
        {
          "output_type": "stream",
          "text": [
            "100% (1762 of 1762) |####################| Elapsed Time: 0:00:31 Time:  0:00:31\n",
            "100% (19 of 19) |########################| Elapsed Time: 0:00:03 Time:  0:00:03\n"
          ],
          "name": "stderr"
        },
        {
          "output_type": "stream",
          "text": [
            "\n",
            "Test set: Average loss: 0.3774, Accuracy: 16380/18800 (87.13%)\n",
            "\n",
            "Epoch: 6 of 10\n"
          ],
          "name": "stdout"
        },
        {
          "output_type": "stream",
          "text": [
            "100% (1762 of 1762) |####################| Elapsed Time: 0:00:31 Time:  0:00:31\n",
            "100% (19 of 19) |########################| Elapsed Time: 0:00:03 Time:  0:00:03\n"
          ],
          "name": "stderr"
        },
        {
          "output_type": "stream",
          "text": [
            "\n",
            "Test set: Average loss: 0.3825, Accuracy: 16419/18800 (87.34%)\n",
            "\n",
            "Epoch: 7 of 10\n"
          ],
          "name": "stdout"
        },
        {
          "output_type": "stream",
          "text": [
            "100% (1762 of 1762) |####################| Elapsed Time: 0:00:31 Time:  0:00:31\n",
            "100% (19 of 19) |########################| Elapsed Time: 0:00:03 Time:  0:00:03\n"
          ],
          "name": "stderr"
        },
        {
          "output_type": "stream",
          "text": [
            "\n",
            "Test set: Average loss: 0.3881, Accuracy: 16407/18800 (87.27%)\n",
            "\n",
            "Epoch: 8 of 10\n"
          ],
          "name": "stdout"
        },
        {
          "output_type": "stream",
          "text": [
            "100% (1762 of 1762) |####################| Elapsed Time: 0:00:31 Time:  0:00:31\n",
            "100% (19 of 19) |########################| Elapsed Time: 0:00:03 Time:  0:00:03\n"
          ],
          "name": "stderr"
        },
        {
          "output_type": "stream",
          "text": [
            "\n",
            "Test set: Average loss: 0.4011, Accuracy: 16500/18800 (87.77%)\n",
            "\n",
            "Epoch: 9 of 10\n"
          ],
          "name": "stdout"
        },
        {
          "output_type": "stream",
          "text": [
            "100% (1762 of 1762) |####################| Elapsed Time: 0:00:31 Time:  0:00:31\n",
            "100% (19 of 19) |########################| Elapsed Time: 0:00:03 Time:  0:00:03\n"
          ],
          "name": "stderr"
        },
        {
          "output_type": "stream",
          "text": [
            "\n",
            "Test set: Average loss: 0.4120, Accuracy: 16504/18800 (87.79%)\n",
            "\n",
            "Epoch: 10 of 10\n"
          ],
          "name": "stdout"
        },
        {
          "output_type": "stream",
          "text": [
            "100% (1762 of 1762) |####################| Elapsed Time: 0:00:31 Time:  0:00:31\n",
            "100% (19 of 19) |########################| Elapsed Time: 0:00:03 Time:  0:00:03\n"
          ],
          "name": "stderr"
        },
        {
          "output_type": "stream",
          "text": [
            "\n",
            "Test set: Average loss: 0.4190, Accuracy: 16489/18800 (87.71%)\n",
            "\n"
          ],
          "name": "stdout"
        }
      ]
    },
    {
      "cell_type": "code",
      "metadata": {
        "id": "1qplBwWT3bjA",
        "colab_type": "code",
        "colab": {}
      },
      "source": [
        "import pandas as pd\n",
        "\n",
        "df_hist = pd.read_csv(os.path.join(warmup_type, \"history.csv\"))\n",
        "df_eval = pd.read_csv(os.path.join(warmup_type, \"evaluation.csv\"))"
      ],
      "execution_count": 0,
      "outputs": []
    },
    {
      "cell_type": "code",
      "metadata": {
        "id": "gOBvzvov32YZ",
        "colab_type": "code",
        "outputId": "358555b2-1628-457a-92ca-3071c0bc9fe3",
        "colab": {
          "base_uri": "https://localhost:8080/",
          "height": 296
        }
      },
      "source": [
        "df_hist.plot(x=\"step\", y=\"lr\")"
      ],
      "execution_count": 11,
      "outputs": [
        {
          "output_type": "execute_result",
          "data": {
            "text/plain": [
              "<matplotlib.axes._subplots.AxesSubplot at 0x7f056f6794a8>"
            ]
          },
          "metadata": {
            "tags": []
          },
          "execution_count": 11
        },
        {
          "output_type": "display_data",
          "data": {
            "image/png": "[encoded data removed]",
            "text/plain": [
              "<Figure size 432x288 with 1 Axes>"
            ]
          },
          "metadata": {
            "tags": []
          }
        }
      ]
    },
    {
      "cell_type": "code",
      "metadata": {
        "id": "H1IC-BIU4BXO",
        "colab_type": "code",
        "outputId": "90be2538-215b-4e53-c457-1143c9dc0f3e",
        "colab": {
          "base_uri": "https://localhost:8080/",
          "height": 300
        }
      },
      "source": [
        "df_hist.plot(x=\"step\", y=\"loss\", ylim=(0,1))"
      ],
      "execution_count": 12,
      "outputs": [
        {
          "output_type": "execute_result",
          "data": {
            "text/plain": [
              "<matplotlib.axes._subplots.AxesSubplot at 0x7f05208674e0>"
            ]
          },
          "metadata": {
            "tags": []
          },
          "execution_count": 12
        },
        {
          "output_type": "display_data",
          "data": {
            "image/png": "[encoded data removed]",
            "text/plain": [
              "<Figure size 432x288 with 1 Axes>"
            ]
          },
          "metadata": {
            "tags": []
          }
        }
      ]
    },
    {
      "cell_type": "code",
      "metadata": {
        "id": "etb3dM5d4PpR",
        "colab_type": "code",
        "outputId": "f707c918-822c-43f5-bde6-e3da58f7eee8",
        "colab": {
          "base_uri": "https://localhost:8080/",
          "height": 297
        }
      },
      "source": [
        "df_eval.plot(x=\"epoch\", y=\"accuracy\", marker=\"o\")"
      ],
      "execution_count": 13,
      "outputs": [
        {
          "output_type": "execute_result",
          "data": {
            "text/plain": [
              "<matplotlib.axes._subplots.AxesSubplot at 0x7f0520ae0e80>"
            ]
          },
          "metadata": {
            "tags": []
          },
          "execution_count": 13
        },
        {
          "output_type": "display_data",
          "data": {
            "image/png": "[encoded data removed]",
            "text/plain": [
              "<Figure size 432x288 with 1 Axes>"
            ]
          },
          "metadata": {
            "tags": []
          }
        }
      ]
    }
  ]
}